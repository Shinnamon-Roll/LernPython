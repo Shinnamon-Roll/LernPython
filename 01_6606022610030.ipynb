{
 "cells": [
  {
   "cell_type": "markdown",
   "metadata": {
    "id": "W1jbnrqxlASE"
   },
   "source": [
    "# Chapter 2  Python Variables and Operators"
   ]
  },
  {
   "cell_type": "markdown",
   "metadata": {
    "id": "7Ge0TFnpljx7"
   },
   "source": [
    "## Python variables"
   ]
  },
  {
   "cell_type": "markdown",
   "metadata": {
    "id": "FcxC02aRljx8"
   },
   "source": [
    "A variable is a reserved memory area (memory address) to store value. For example, we want to store an employee’s salary. In such a case, we can create a variable and store salary using it. Using that variable name, you can read or modify the salary amount.\n",
    "\n",
    "In other words, a variable is a value that varies according to the condition or input pass to the program. Everything in Python is treated as an object so every variable is nothing but an object in Python.\n",
    "\n",
    "A variable can be either mutable or immutable. If the variable’s value can change, the object is called mutable, while if the value cannot change, the object is called immutable."
   ]
  },
  {
   "cell_type": "markdown",
   "metadata": {
    "id": "6Yc3v8o2ljx8"
   },
   "source": [
    "## Creating a variable"
   ]
  },
  {
   "cell_type": "markdown",
   "metadata": {
    "id": "dgI7J2NNljx8"
   },
   "source": [
    "Python programming language is dynamically typed, so there is no need to declare a variable before using it or declare the data type of variable like in other programming languages. The declaration happens automatically when we assign a value to the variable."
   ]
  },
  {
   "cell_type": "markdown",
   "metadata": {
    "id": "7FHdUCYlljx9"
   },
   "source": [
    "##### Creating a variable and assigning a value\n",
    "\n"
   ]
  },
  {
   "cell_type": "markdown",
   "metadata": {
    "id": "f96W7V-Tljx9"
   },
   "source": [
    "We can assign a value to the variable at that time variable is created. We can use the assignment operator = to assign a value to a variable.\n",
    "\n",
    "The operand, which is on the left side of the assignment operator, is a variable name. And the operand, which is the right side of the assignment operator, is the variable’s value.\n",
    "\n",
    "variable_name = variable_value"
   ]
  },
  {
   "cell_type": "code",
   "execution_count": null,
   "metadata": {
    "colab": {
     "base_uri": "https://localhost:8080/"
    },
    "executionInfo": {
     "elapsed": 8,
     "status": "ok",
     "timestamp": 1721359616233,
     "user": {
      "displayName": "Wanthanee Prachuabsupakij",
      "userId": "13160947104043617262"
     },
     "user_tz": -420
    },
    "id": "q66N3oq2ljx9",
    "outputId": "7fa0b7bb-f4f8-45d3-ae54-359867a3c452"
   },
   "outputs": [
    {
     "name": "stdout",
     "output_type": "stream",
     "text": [
      "Deepali\n",
      "25\n",
      "25800.6\n"
     ]
    }
   ],
   "source": [
    "name = \"Deepali\"  # string assignment\n",
    "age = 25  # integer assignment\n",
    "salary = 25800.60  # float assignment\n",
    "\n",
    "print(name)  # Deepali\n",
    "print(age)  # 25\n",
    "print(salary)  # 25800.6"
   ]
  },
  {
   "cell_type": "markdown",
   "metadata": {
    "id": "kUbvPJVzljx-"
   },
   "source": [
    "In the above example, “Deepali”, 25, 25800.60 are values that are assigned to name, age, and salary respectively."
   ]
  },
  {
   "cell_type": "markdown",
   "metadata": {
    "id": "R-Inq3tJljx_"
   },
   "source": [
    "## Create Number, String, List variables"
   ]
  },
  {
   "cell_type": "markdown",
   "metadata": {
    "id": "6_3kuLVkljx_"
   },
   "source": [
    "We can create different types of variables as per our requirements."
   ]
  },
  {
   "cell_type": "markdown",
   "metadata": {
    "id": "-YtlohAWljx_"
   },
   "source": [
    "### Number"
   ]
  },
  {
   "cell_type": "markdown",
   "metadata": {
    "id": "G_DBMjEuljx_"
   },
   "source": [
    "A number is a data type to store numeric values. The object for the number will be created when we assign a value to the variable. In Python3, we can use the following three data types to store numeric values.\n",
    "\n",
    "1. Int\n",
    "2. float\n",
    "3. complex\n",
    "4. Boolean"
   ]
  },
  {
   "cell_type": "markdown",
   "metadata": {
    "id": "QD6Cvc5tljx_"
   },
   "source": [
    "### Integer variable"
   ]
  },
  {
   "cell_type": "markdown",
   "metadata": {
    "id": "y-xKo5SCljx_"
   },
   "source": [
    "The int is a data type that returns integer type values (signed integers); they are also called ints or integers. The integer value can be positive or negative without a decimal point."
   ]
  },
  {
   "cell_type": "code",
   "execution_count": null,
   "metadata": {
    "colab": {
     "base_uri": "https://localhost:8080/"
    },
    "executionInfo": {
     "elapsed": 372,
     "status": "ok",
     "timestamp": 1721359627138,
     "user": {
      "displayName": "Wanthanee Prachuabsupakij",
      "userId": "13160947104043617262"
     },
     "user_tz": -420
    },
    "id": "iT024_2gljx_",
    "outputId": "c1f4d977-f6e1-449b-9bc0-ac87063956e4"
   },
   "outputs": [
    {
     "name": "stdout",
     "output_type": "stream",
     "text": [
      "24\n",
      "<class 'int'>\n"
     ]
    }
   ],
   "source": [
    "# create integer variable\n",
    "age = 24\n",
    "print(age)  # 24\n",
    "print(type(age))  # <class 'int'>"
   ]
  },
  {
   "cell_type": "markdown",
   "metadata": {
    "id": "5dV_smO4ljyA"
   },
   "source": [
    "Note: We used the built-in Python method type() to check the variable type."
   ]
  },
  {
   "cell_type": "markdown",
   "metadata": {
    "id": "HioeLYc3ljyA"
   },
   "source": [
    "### Float variable"
   ]
  },
  {
   "cell_type": "markdown",
   "metadata": {
    "id": "78WPW9z0ljyA"
   },
   "source": [
    "Floats are the values with the decimal point dividing the integer and the fractional parts of the number.  Use float data type to store decimal values."
   ]
  },
  {
   "cell_type": "code",
   "execution_count": null,
   "metadata": {
    "colab": {
     "base_uri": "https://localhost:8080/"
    },
    "executionInfo": {
     "elapsed": 343,
     "status": "ok",
     "timestamp": 1721359631046,
     "user": {
      "displayName": "Wanthanee Prachuabsupakij",
      "userId": "13160947104043617262"
     },
     "user_tz": -420
    },
    "id": "DazwIvQ2ljyA",
    "outputId": "da979072-6bcc-4b2a-ed30-a70e01477aaa"
   },
   "outputs": [
    {
     "name": "stdout",
     "output_type": "stream",
     "text": [
      "10800.55\n",
      "<class 'float'>\n"
     ]
    }
   ],
   "source": [
    "# create float variable\n",
    "salary = 10800.55\n",
    "print(salary)  # 10800.55\n",
    "print(type(salary))  # <class 'float'>"
   ]
  },
  {
   "cell_type": "markdown",
   "metadata": {
    "id": "VjH-3_JcljyA"
   },
   "source": [
    "\n",
    "In the above example, the variable salary assigned to value 10800.55, which is a float value."
   ]
  },
  {
   "cell_type": "markdown",
   "metadata": {
    "id": "Xq7VfgexljyA"
   },
   "source": [
    "### Complex type"
   ]
  },
  {
   "cell_type": "markdown",
   "metadata": {
    "id": "OsL7LMrQljyA"
   },
   "source": [
    "The complex is the numbers that come with the real and imaginary part. A complex number is in the form of a+bj, where a and b contain integers or floating-point values."
   ]
  },
  {
   "cell_type": "code",
   "execution_count": null,
   "metadata": {
    "colab": {
     "base_uri": "https://localhost:8080/"
    },
    "executionInfo": {
     "elapsed": 355,
     "status": "ok",
     "timestamp": 1721359668855,
     "user": {
      "displayName": "Wanthanee Prachuabsupakij",
      "userId": "13160947104043617262"
     },
     "user_tz": -420
    },
    "id": "zy2xNK0KljyB",
    "outputId": "df7e59f2-5f54-47a0-b73b-7b586b78f35b"
   },
   "outputs": [
    {
     "name": "stdout",
     "output_type": "stream",
     "text": [
      "(9+5j)\n",
      "<class 'complex'>\n"
     ]
    }
   ],
   "source": [
    "a = 9 + 5j\n",
    "print(a)  # (9+5j)\n",
    "print(type(a))  # <class 'complex'>"
   ]
  },
  {
   "cell_type": "markdown",
   "metadata": {
    "id": "AioUJGAaljyB"
   },
   "source": [
    "### String variable"
   ]
  },
  {
   "cell_type": "markdown",
   "metadata": {
    "id": "dUN5uAEIljyB"
   },
   "source": [
    "In Python, a string is a set of characters represented in quotation marks. Python allows us to define a string in either pair of single or double quotation marks. For example, to store a person’s name we can use a string type."
   ]
  },
  {
   "cell_type": "markdown",
   "metadata": {
    "id": "7rbVLfwZljyB"
   },
   "source": [
    "To retrieve a piece of string from a given string, we can use to slice operator [] or [:]. Slicing provides us the subset of a string with an index starting from index 0 to index end-1.\n",
    "\n",
    "To concatenate the string, we can use the addition(+) operator."
   ]
  },
  {
   "cell_type": "code",
   "execution_count": null,
   "metadata": {
    "colab": {
     "base_uri": "https://localhost:8080/"
    },
    "executionInfo": {
     "elapsed": 354,
     "status": "ok",
     "timestamp": 1721359763560,
     "user": {
      "displayName": "Wanthanee Prachuabsupakij",
      "userId": "13160947104043617262"
     },
     "user_tz": -420
    },
    "id": "YWspLmvjljyB",
    "outputId": "a7bbbe2e-0294-408b-a1ab-79229485823c"
   },
   "outputs": [
    {
     "name": "stdout",
     "output_type": "stream",
     "text": [
      "DataScience\n",
      "D\n",
      "taS\n",
      "11\n",
      "DataScienceTEST\n"
     ]
    }
   ],
   "source": [
    "# create a variable of type string\n",
    "str = 'DataScience'\n",
    "# prints complete string\n",
    "print(str)  # Data Science\n",
    "\n",
    "# prints first character of the string\n",
    "print(str[0])  # D\n",
    "\n",
    "# prints characters starting from 2nd to 5th\n",
    "print(str[2:5])  # taS\n",
    "\n",
    "# length of string\n",
    "print(len(str))  # 12\n",
    "\n",
    "# concatenate string\n",
    "print(str + \"TEST\")  # Data ScienceTEST"
   ]
  },
  {
   "cell_type": "markdown",
   "metadata": {
    "id": "ci3s2t_Ro8CL"
   },
   "source": [
    "# Booleans\n",
    "Boolean is the type of a variable True or False and thus are extremely useful when coding.\n",
    "\n",
    "They can be obtained by comparisons >, >= (greater, greater or égal), <, <= (smaller, smaller or equal) or membership == , != (equality, different).\n",
    "They can be manipulated by the logical operations and, not, or."
   ]
  },
  {
   "cell_type": "code",
   "execution_count": null,
   "metadata": {
    "colab": {
     "base_uri": "https://localhost:8080/"
    },
    "executionInfo": {
     "elapsed": 338,
     "status": "ok",
     "timestamp": 1721359831087,
     "user": {
      "displayName": "Wanthanee Prachuabsupakij",
      "userId": "13160947104043617262"
     },
     "user_tz": -420
    },
    "id": "q4hCInLXoiFT",
    "outputId": "ffe13c99-838b-4c53-a0eb-a76827fab653"
   },
   "outputs": [
    {
     "name": "stdout",
     "output_type": "stream",
     "text": [
      "2 > 1\t True\n",
      "2 > 2\t False\n",
      "2 >= 2\t True\n",
      "2 == 2\t True\n",
      "2 == 2.0 True\n",
      "2 != 1.9 True\n"
     ]
    }
   ],
   "source": [
    "print('2 > 1\\t', 2 > 1)\n",
    "print('2 > 2\\t', 2 > 2)\n",
    "print('2 >= 2\\t',2 >= 2)\n",
    "print('2 == 2\\t',2 == 2)\n",
    "print('2 == 2.0',2 == 2.0)\n",
    "print('2 != 1.9',2 != 1.9)"
   ]
  },
  {
   "cell_type": "markdown",
   "metadata": {
    "id": "Ik4GQBC3t4dM"
   },
   "source": [
    "# Input"
   ]
  },
  {
   "cell_type": "code",
   "execution_count": null,
   "metadata": {
    "colab": {
     "base_uri": "https://localhost:8080/"
    },
    "executionInfo": {
     "elapsed": 25197,
     "status": "ok",
     "timestamp": 1721363398080,
     "user": {
      "displayName": "Wanthanee Prachuabsupakij",
      "userId": "13160947104043617262"
     },
     "user_tz": -420
    },
    "id": "nd7tZRLzt5nr",
    "outputId": "283e2510-0adf-401c-f369-5d1e12a7a02d"
   },
   "outputs": [
    {
     "name": "stdout",
     "output_type": "stream",
     "text": [
      "What color is rose?: red\n",
      "red\n",
      "How many roses?: 5\n",
      "5\n",
      "Price of each rose?: 400\n",
      "400.0\n"
     ]
    }
   ],
   "source": [
    "# Taking input as string\n",
    "color = input(\"What color is rose?: \")\n",
    "print(color)\n",
    "\n",
    "# Taking input as int\n",
    "# Typecasting to int\n",
    "n = int(input(\"How many roses?: \"))\n",
    "print(n)\n",
    "\n",
    "# Taking input as float\n",
    "# Typecasting to float\n",
    "price = float(input(\"Price of each rose?: \"))\n",
    "print(price)"
   ]
  },
  {
   "cell_type": "markdown",
   "metadata": {
    "id": "HDOHx4ONk88M"
   },
   "source": [
    "# Operators\n",
    "Operators are special symbols that perform specific operations on one or more operands (values) and then return a result. For example, you can calculate the sum of two numbers using an addition (+) operator."
   ]
  },
  {
   "cell_type": "markdown",
   "metadata": {
    "id": "06Ny9qRKk88Q"
   },
   "source": [
    "Python has seven types of operators that we can use to perform different operation and produce a result.\n",
    " 1. Arithmetic operator\n",
    " 2. Relational operators\n",
    " 3. Assignment operators\n",
    " 4. Logical operators\n",
    " 5. Membership operators\n",
    " 6. Identity operators\n",
    " 7. Bitwise operators"
   ]
  },
  {
   "cell_type": "markdown",
   "metadata": {
    "id": "Osjd76OVk88R"
   },
   "source": [
    "## 1. Arithmetic operator"
   ]
  },
  {
   "cell_type": "markdown",
   "metadata": {
    "id": "KPDJtujAk88R"
   },
   "source": [
    "Arithmetic operators are the most commonly used. The Python programming language provides arithmetic operators that perform addition, subtraction, multiplication, and division. It works the same as basic mathematics.\n",
    "\n",
    "There are seven arithmetic operators we can use to perform different mathematical operations, such as:"
   ]
  },
  {
   "cell_type": "markdown",
   "metadata": {
    "id": "rGHAhswOk88S"
   },
   "source": [
    "1. (+)(Addition)\n",
    "2. (-)(Subtraction)\n",
    "3. (*) (Multiplication)\n",
    "4. (/) (Division)\n",
    "5. (//) Floor division)\n",
    "6. (℅) (Modulus)\n",
    "7. (**) (Exponentiation)"
   ]
  },
  {
   "cell_type": "markdown",
   "metadata": {
    "id": "4_M8j3yrk88S"
   },
   "source": [
    "| Operator|Meaning|Example |\n",
    "|:- |----|------|\n",
    "| +\t| Add |  two operands or unary plus\t| x + y+ 2 |\n",
    "| -\t|Subtract right operand from the left or unary minus | x - y- 2|\n",
    "| *\t|Multiply two operands| x * y |\n",
    "| /\t|Divide left operand by the right one (always results into float)| x / y |\n",
    "| %\t|Modulus - remainder of the division of left operand by the right| x % y (remainder of x/y) |\n",
    "| //|Floor division - division that results into whole number adjusted to the left in the number line|x // y|\n",
    "|**\t|Exponent - left operand raised to the power of right|x**y (x to the power y)|"
   ]
  },
  {
   "cell_type": "markdown",
   "metadata": {
    "id": "bedaRt3Bk88S"
   },
   "source": [
    "Now, let’s see how to use each arithmetic operator in our program with the help of examples."
   ]
  },
  {
   "cell_type": "markdown",
   "metadata": {
    "id": "0d5OELINk88T"
   },
   "source": [
    "##### Addition operator +"
   ]
  },
  {
   "cell_type": "markdown",
   "metadata": {
    "id": "v__9VTDhk88T"
   },
   "source": [
    "It adds two or more operands and gives their sum as a result. It works the same as a unary plus. In simple terms,  It performs the addition of two or more than two values and gives their sum as a result.\n",
    "\n",
    "Example"
   ]
  },
  {
   "cell_type": "code",
   "execution_count": null,
   "metadata": {
    "colab": {
     "base_uri": "https://localhost:8080/"
    },
    "executionInfo": {
     "elapsed": 381,
     "status": "ok",
     "timestamp": 1721362482547,
     "user": {
      "displayName": "Wanthanee Prachuabsupakij",
      "userId": "13160947104043617262"
     },
     "user_tz": -420
    },
    "id": "31wE2OA0k88T",
    "outputId": "9adaa3d0-fda2-4312-b221-6b4b06d43beb"
   },
   "outputs": [
    {
     "name": "stdout",
     "output_type": "stream",
     "text": [
      "30\n"
     ]
    }
   ],
   "source": [
    "x = 10\n",
    "y = 20\n",
    "print(x + y)"
   ]
  },
  {
   "cell_type": "markdown",
   "metadata": {
    "id": "mci1tUBnk88V"
   },
   "source": [
    "Also, we can use the addition operator with strings, and it will become string concatenation."
   ]
  },
  {
   "cell_type": "code",
   "execution_count": null,
   "metadata": {
    "colab": {
     "base_uri": "https://localhost:8080/"
    },
    "executionInfo": {
     "elapsed": 1064,
     "status": "ok",
     "timestamp": 1721362491268,
     "user": {
      "displayName": "Wanthanee Prachuabsupakij",
      "userId": "13160947104043617262"
     },
     "user_tz": -420
    },
    "id": "BW5Khr1dk88V",
    "outputId": "926885a8-659c-46df-e4b7-c14ea4806926"
   },
   "outputs": [
    {
     "name": "stdout",
     "output_type": "stream",
     "text": [
      "Deepali Shinde \n"
     ]
    }
   ],
   "source": [
    "name = \"Deepali\"\n",
    "surname = \" Shinde \"\n",
    "print(name + surname)"
   ]
  },
  {
   "cell_type": "code",
   "execution_count": null,
   "metadata": {
    "colab": {
     "base_uri": "https://localhost:8080/"
    },
    "executionInfo": {
     "elapsed": 371,
     "status": "ok",
     "timestamp": 1721362508517,
     "user": {
      "displayName": "Wanthanee Prachuabsupakij",
      "userId": "13160947104043617262"
     },
     "user_tz": -420
    },
    "id": "1c_UDceZk88V",
    "outputId": "9ed8738f-f6cb-4180-b021-49cce7bc8e27"
   },
   "outputs": [
    {
     "name": "stdout",
     "output_type": "stream",
     "text": [
      "Ault Kelly\n"
     ]
    }
   ],
   "source": [
    "#OR\n",
    "name = \"Kelly\"\n",
    "surname = \"Ault\"\n",
    "print(surname + \" \" + name)"
   ]
  },
  {
   "cell_type": "markdown",
   "metadata": {
    "id": "VMeBUzq2k88V"
   },
   "source": [
    "##### Subtraction -"
   ]
  },
  {
   "cell_type": "markdown",
   "metadata": {
    "id": "mUSuysaxk88V"
   },
   "source": [
    "Use to subtracts the second value from the first value and gives the difference between them. It works the same as a unary minus. The subtraction operator is denoted by - symbol."
   ]
  },
  {
   "cell_type": "code",
   "execution_count": null,
   "metadata": {
    "colab": {
     "base_uri": "https://localhost:8080/"
    },
    "executionInfo": {
     "elapsed": 359,
     "status": "ok",
     "timestamp": 1721362516368,
     "user": {
      "displayName": "Wanthanee Prachuabsupakij",
      "userId": "13160947104043617262"
     },
     "user_tz": -420
    },
    "id": "Er2s-5eNk88V",
    "outputId": "9fc02136-efcf-4396-b168-bf62a8a022cb"
   },
   "outputs": [
    {
     "name": "stdout",
     "output_type": "stream",
     "text": [
      "30\n",
      "-30\n"
     ]
    }
   ],
   "source": [
    "x = 50\n",
    "y = 20\n",
    "print(x - y)\n",
    "print(y - x)"
   ]
  },
  {
   "cell_type": "markdown",
   "metadata": {
    "id": "8Fmqm1flk88W"
   },
   "source": [
    "##### Multiplication *"
   ]
  },
  {
   "cell_type": "markdown",
   "metadata": {
    "id": "vgPXM_T2k88W"
   },
   "source": [
    "Multiply two operands. In simple terms, it is used to multiplies two or more values and gives their product as a result. The multiplication operator is denoted by a * symbol."
   ]
  },
  {
   "cell_type": "code",
   "execution_count": null,
   "metadata": {
    "colab": {
     "base_uri": "https://localhost:8080/"
    },
    "executionInfo": {
     "elapsed": 355,
     "status": "ok",
     "timestamp": 1721362521170,
     "user": {
      "displayName": "Wanthanee Prachuabsupakij",
      "userId": "13160947104043617262"
     },
     "user_tz": -420
    },
    "id": "9R4QYkiok88W",
    "outputId": "701f2526-edc7-4d52-f417-b165710ad41c"
   },
   "outputs": [
    {
     "name": "stdout",
     "output_type": "stream",
     "text": [
      "24\n",
      "48\n"
     ]
    }
   ],
   "source": [
    "a = 8\n",
    "b = 3\n",
    "c = 2\n",
    "print( a*b)\n",
    "print(a*b*c)"
   ]
  },
  {
   "cell_type": "markdown",
   "metadata": {
    "id": "uRZGAumFk88W"
   },
   "source": [
    "You can also use the multiplication operator with string. When used with string, it works as a repetition."
   ]
  },
  {
   "cell_type": "code",
   "execution_count": null,
   "metadata": {
    "colab": {
     "base_uri": "https://localhost:8080/"
    },
    "executionInfo": {
     "elapsed": 344,
     "status": "ok",
     "timestamp": 1721362534676,
     "user": {
      "displayName": "Wanthanee Prachuabsupakij",
      "userId": "13160947104043617262"
     },
     "user_tz": -420
    },
    "id": "-uRt9YYBk88W",
    "outputId": "d3b3982c-f137-4d71-9b5a-ae7584ac74b9"
   },
   "outputs": [
    {
     "name": "stdout",
     "output_type": "stream",
     "text": [
      "DeepaliDeepaliDeepali\n"
     ]
    }
   ],
   "source": [
    "name = \"Deepali\"\n",
    "print(name * 3)"
   ]
  },
  {
   "cell_type": "markdown",
   "metadata": {
    "id": "Orv1PFEuk88W"
   },
   "source": [
    "##### Division /"
   ]
  },
  {
   "cell_type": "markdown",
   "metadata": {
    "id": "g3MbEF4Bk88W"
   },
   "source": [
    "Divide the left operand (dividend) by the right one (divisor) and provide the result (quotient ) in a float value. The division operator is denoted by a / symbol.\n",
    "\n",
    "Note:\n",
    "\n",
    "The division operator performs floating-point arithmetic. Hence it always returns a float value.\n",
    "Don’t divide any number by zero. You will get a Zero Division Error: Division by zero"
   ]
  },
  {
   "cell_type": "code",
   "execution_count": null,
   "metadata": {
    "colab": {
     "base_uri": "https://localhost:8080/"
    },
    "executionInfo": {
     "elapsed": 331,
     "status": "ok",
     "timestamp": 1721362543595,
     "user": {
      "displayName": "Wanthanee Prachuabsupakij",
      "userId": "13160947104043617262"
     },
     "user_tz": -420
    },
    "id": "DME4tbfXk88X",
    "outputId": "698ca363-5bbe-4a36-b0f8-4b82c274e995"
   },
   "outputs": [
    {
     "name": "stdout",
     "output_type": "stream",
     "text": [
      "0.5\n",
      "0.07142857142857142\n"
     ]
    }
   ],
   "source": [
    "x = 2\n",
    "y = 4\n",
    "z = 7\n",
    "\n",
    "print(x/y)\n",
    "print(x/y/z)"
   ]
  },
  {
   "cell_type": "markdown",
   "metadata": {
    "id": "SZkj-m0Pk88X"
   },
   "source": [
    "##### 5. Floor division //"
   ]
  },
  {
   "cell_type": "markdown",
   "metadata": {
    "id": "1nQo95Kvk88X"
   },
   "source": [
    "Floor division returns the quotient (the result of division) in which the digits after the decimal point are removed. In simple terms, It is used to divide one value by a second value and gives a quotient as a round figure value to the next smallest whole value.\n",
    "\n",
    "It works the same as a division operator, except it returns a possible integer. The // symbol denotes a floor division operator.\n",
    "\n",
    "Note:\n",
    "\n",
    "Floor division can perform both floating-point and integer arithmetic.\n",
    "If both operands are int type, then the result types. If at least one operand type, then the result is a float type.\n"
   ]
  },
  {
   "cell_type": "code",
   "execution_count": null,
   "metadata": {
    "colab": {
     "base_uri": "https://localhost:8080/"
    },
    "executionInfo": {
     "elapsed": 358,
     "status": "ok",
     "timestamp": 1721362666872,
     "user": {
      "displayName": "Wanthanee Prachuabsupakij",
      "userId": "13160947104043617262"
     },
     "user_tz": -420
    },
    "id": "LktF0aP3k88X",
    "outputId": "ee2678fb-a823-46eb-b883-56570770fc28"
   },
   "outputs": [
    {
     "name": "stdout",
     "output_type": "stream",
     "text": [
      "1.6666666666666667\n",
      "1\n",
      "2.2727272727272725\n",
      "2.0\n"
     ]
    }
   ],
   "source": [
    "a = 3\n",
    "b = 5\n",
    "c = 2.2\n",
    "\n",
    "# Normal Division\n",
    "print(b/a)\n",
    "\n",
    "# floor division to get result as integer\n",
    "print(b//a)\n",
    "\n",
    "# normal division\n",
    "print(b/c)\n",
    "\n",
    "# floor division.\n",
    "# Result as float because one argument is float\n",
    "print(b//c)\n",
    "\n"
   ]
  },
  {
   "cell_type": "markdown",
   "metadata": {
    "id": "pBhdK0Y6k88X"
   },
   "source": [
    "##### 6. Modulus ℅"
   ]
  },
  {
   "cell_type": "markdown",
   "metadata": {
    "id": "nFoCHOMBk88X"
   },
   "source": [
    "The remainder of the division of left operand by the right. The modulus operator is denoted by a % symbol. In simple terms, the Modulus operator divides one value by a second and gives the remainder as a result."
   ]
  },
  {
   "cell_type": "code",
   "execution_count": null,
   "metadata": {
    "colab": {
     "base_uri": "https://localhost:8080/"
    },
    "executionInfo": {
     "elapsed": 373,
     "status": "ok",
     "timestamp": 1721362746703,
     "user": {
      "displayName": "Wanthanee Prachuabsupakij",
      "userId": "13160947104043617262"
     },
     "user_tz": -420
    },
    "id": "z6ZLfNVUk88X",
    "outputId": "1cb227ed-7200-4377-d14b-7622dd0b0dff"
   },
   "outputs": [
    {
     "name": "stdout",
     "output_type": "stream",
     "text": [
      "2\n"
     ]
    }
   ],
   "source": [
    "a = 12\n",
    "b = 5\n",
    "print(a%b)"
   ]
  },
  {
   "cell_type": "markdown",
   "metadata": {
    "id": "9NlytJJXk88Y"
   },
   "source": [
    "##### 7. Exponent **"
   ]
  },
  {
   "cell_type": "markdown",
   "metadata": {
    "id": "scqd6RG4k88Y"
   },
   "source": [
    "Using exponent operator left operand raised to the power of right. The exponentiation operator is denoted by a double asterisk ** symbol. You can use it as a shortcut to calculate the exponential value.\n",
    "\n",
    "For example, 2**3 Here 2 is multiplied by itself 3 times, i.e., 2 * 2 * 2. Here the 2 is the base, and 3 is an exponent."
   ]
  },
  {
   "cell_type": "code",
   "execution_count": null,
   "metadata": {
    "colab": {
     "base_uri": "https://localhost:8080/"
    },
    "executionInfo": {
     "elapsed": 346,
     "status": "ok",
     "timestamp": 1721362753851,
     "user": {
      "displayName": "Wanthanee Prachuabsupakij",
      "userId": "13160947104043617262"
     },
     "user_tz": -420
    },
    "id": "EkEVAj41k88Y",
    "outputId": "97fa6507-8ab4-46b2-fdd9-1dac2ee612dd"
   },
   "outputs": [
    {
     "name": "stdout",
     "output_type": "stream",
     "text": [
      "16\n"
     ]
    }
   ],
   "source": [
    "number = 2\n",
    "print(number**4)"
   ]
  },
  {
   "cell_type": "markdown",
   "metadata": {
    "id": "glW-bTjMR4UR"
   },
   "source": [
    "# Exercise"
   ]
  },
  {
   "cell_type": "markdown",
   "metadata": {
    "id": "YDXEUqXjuaA0"
   },
   "source": [
    "1. ให้นักศึกษารับอินพุทจำนวนเต็มจากผู้ใช้ 2 จำนวน แล้วนำค่าตัวเลขสองตัวนั้นมาบวกกันและแสดงผลลัพธ์\n",
    "![ff.gif](data:image/gif;base64,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)"
   ]
  },
  {
   "cell_type": "code",
   "execution_count": null,
   "metadata": {
    "id": "deWZRu0UuAvb"
   },
   "outputs": [
    {
     "data": {
      "text/plain": [
       "Traceback (most recent call last):\n",
       "  File \"c:\\Users\\chimo\\.vscode\\extensions\\ms-python.python-2024.20.0-win32-x64\\python_files\\python_server.py\", line 129, in exec_user_input\n",
       "    callable_ = exec_function(user_input)\n",
       "  File \"c:\\Users\\chimo\\.vscode\\extensions\\ms-python.python-2024.20.0-win32-x64\\python_files\\python_server.py\", line 94, in exec_function\n",
       "    compile(user_input, \"<stdin>\", \"eval\")\n",
       "    ~~~~~~~^^^^^^^^^^^^^^^^^^^^^^^^^^^^^^^\n",
       "UnicodeEncodeError: 'utf-8' codec can't encode character '\\udc82' in position 6: surrogates not allowed\n",
       "\n"
      ]
     },
     "metadata": {},
     "output_type": "display_data"
    }
   ],
   "source": [
    "#เขียนโปรแกรมตรงนี้\n",
    "firstNum, lastNum = int(input(\"Please Enter First Number : \")), int(input(\"Please Enter Second Number : \"))\n",
    "print(f\"The sum of the tow given number is : {firstNum + lastNum}\")"
   ]
  },
  {
   "cell_type": "markdown",
   "metadata": {
    "id": "Z2PDcWXZv19O"
   },
   "source": [
    "2. จงเขียนโปรแกรมเพื่อรับค่า น้ำหนักและส่วนสูง แล้วคำนวณค่า BMI โดยแสดงผลลัพธ์มีทศนิยม 2 ตำแหน่ง\n",
    "\n",
    "Enter your weight in kilograms:   65\n",
    "\n",
    "Enter your height in centimeter:  167\n",
    "\n",
    "BMI = 23.31"
   ]
  },
  {
   "cell_type": "code",
   "execution_count": null,
   "metadata": {
    "id": "Ftfz-9cAR8l9"
   },
   "outputs": [],
   "source": [
    "#เขียนโปรแกรมตรงนี้\n",
    "weight, height = int(input(\"Enter your weight in kilograms : \")), int(input(\"Enter your height in centimeter : \"))\n",
    "print(f\"BMI = {weight / ((height/100) ** 2 ):,.2f}\")"
   ]
  },
  {
   "cell_type": "markdown",
   "metadata": {
    "id": "sjfudYHMQxF2"
   },
   "source": [
    "3. Calculate the Area of a Circle\n",
    "\n",
    "Task:  Write a Python program that calculates the area of a circle given its radius. The radius should be entered by the user. Use the formula:\n",
    "\n",
    "Area = 𝜋 × 𝑟2\n",
    "\n",
    "Where 𝜋 = 3.14159\n"
   ]
  },
  {
   "cell_type": "code",
   "execution_count": null,
   "metadata": {
    "id": "ewmp88tERNDu"
   },
   "outputs": [],
   "source": [
    "#เขียนโปรแกรมตรงนี้\n",
    "radius = float(input(\"Enter the radius of the circle : \"))\n",
    "print(f\"The area of the circle with radius {radius} is {3.14159 * (radius ** 2):.2f}\")"
   ]
  },
  {
   "cell_type": "code",
   "execution_count": null,
   "metadata": {
    "colab": {
     "base_uri": "https://localhost:8080/"
    },
    "executionInfo": {
     "elapsed": 5156,
     "status": "ok",
     "timestamp": 1732436604406,
     "user": {
      "displayName": "Wanthanee Prachuabsupakij",
      "userId": "13160947104043617262"
     },
     "user_tz": -420
    },
    "id": "BsmnulhURCcH",
    "outputId": "0d4dc50d-1c3b-45cf-cb1f-9373b200cfeb"
   },
   "outputs": [
    {
     "name": "stdout",
     "output_type": "stream",
     "text": [
      "Enter the radius of the circle: 6.8\n",
      "The area of the circle with radius 6.8 is 145.27\n"
     ]
    }
   ],
   "source": [
    "\n"
   ]
  },
  {
   "cell_type": "markdown",
   "metadata": {
    "id": "46Kv5EFARWsY"
   },
   "source": []
  },
  {
   "cell_type": "markdown",
   "metadata": {
    "id": "Dqwt2psUk88Y"
   },
   "source": [
    "## 2. Relational (comparison) operators"
   ]
  },
  {
   "cell_type": "markdown",
   "metadata": {
    "id": "w3X-ueJsk88Y"
   },
   "source": [
    "Relational operators are also called comparison operators. It performs a comparison between two values. It returns a boolean  True or False depending upon the result of the comparison.\n",
    "\n",
    "Python has the following six relational operators.\n",
    "\n"
   ]
  },
  {
   "cell_type": "markdown",
   "metadata": {
    "id": "7AUWfi30k88Y"
   },
   "source": [
    "|Operator | Description | Example\n",
    "|:- |:-|:-|\n",
    "|1. == | Checks both left and right operands are same | 10 == 10 it will return true.10 == 7 it will return false |\n",
    "|2. != | Checks both left and right operands are not same. | 10 != 20 it will return true.10 != 10 it will return false.|\n",
    "|3.  <  | Checks whether the left operand is smaller than the right operand. | 5 < 10 it will return true.10 < 10 it will |return false.|\n",
    "|4.  <= | Checks whether the left operand is smaller than or equal to the right operand.| 10 <= 10 it will return true 20 <= 10 it will return false.|\n",
    "|5.  > | Checks whether the left operand is greater than the right operand.| 50 > 10 it will return true5 > 10 it will return false.|\n",
    "|6.  >= | Checks whether the left operand is greater than or equal to the right operand.|10 >= 10 it will return true 5 >= 10 it will return false.|"
   ]
  },
  {
   "cell_type": "markdown",
   "metadata": {
    "id": "a48N5WvGk88Y"
   },
   "source": [
    "## Observations"
   ]
  },
  {
   "cell_type": "markdown",
   "metadata": {
    "id": "gEgKZB78k88Y"
   },
   "source": [
    "You can compare more than two values also. Assume variable x holds 10, variable y holds 5, and variable z holds 2.\n",
    "\n",
    "So print(x > y > z) will return True because x is greater than y, and y is greater than z, so it makes x is greater than z."
   ]
  },
  {
   "cell_type": "code",
   "execution_count": null,
   "metadata": {
    "colab": {
     "base_uri": "https://localhost:8080/"
    },
    "executionInfo": {
     "elapsed": 352,
     "status": "ok",
     "timestamp": 1721362792432,
     "user": {
      "displayName": "Wanthanee Prachuabsupakij",
      "userId": "13160947104043617262"
     },
     "user_tz": -420
    },
    "id": "Ih26XRuWk88c",
    "outputId": "5537b960-afe9-4840-b4b0-b23efb456eb7"
   },
   "outputs": [
    {
     "name": "stdout",
     "output_type": "stream",
     "text": [
      "True\n",
      "True\n",
      "False\n",
      "True\n",
      "False\n",
      "True\n",
      "True\n",
      "False\n",
      "True\n",
      "True\n",
      "False\n",
      "True\n"
     ]
    }
   ],
   "source": [
    "a = 12\n",
    "b = 4\n",
    "c = 2\n",
    "\n",
    "# > Greater than\n",
    "print(a > b)  # True\n",
    "print(a > b > c)  # True\n",
    "\n",
    "# < Less than\n",
    "print(a < b)  # False\n",
    "print(b < a)  # True\n",
    "\n",
    "# Equal to\n",
    "print(a == b)  # False\n",
    "print(a == 12)  # True\n",
    "\n",
    "# != Not Equal to\n",
    "print(a != b)  # True\n",
    "print(12 != a)  # False\n",
    "\n",
    "# >= Greater than equal to\n",
    "print(a >= b)  # True\n",
    "print(12 >= a)  # True\n",
    "\n",
    "# <= Less than equal to\n",
    "print(a <= b)  # False\n",
    "print(12 <= a)  # True"
   ]
  },
  {
   "cell_type": "markdown",
   "metadata": {
    "id": "0Q3gM9pEbMHf"
   },
   "source": [
    "**Exercise : Age Eligibility for Services**\n",
    "* Accepts a user's age as input.\n",
    "* Compares the age against service age limits (e.g., 18 for adults and 60 for senior discounts).\n",
    "* Outputs whether the user meets these criteria (e.g., \"eligible for adult services\", \"eligible for senior discounts\")."
   ]
  },
  {
   "cell_type": "code",
   "execution_count": 6,
   "metadata": {
    "colab": {
     "base_uri": "https://localhost:8080/"
    },
    "executionInfo": {
     "elapsed": 2477,
     "status": "ok",
     "timestamp": 1732590265873,
     "user": {
      "displayName": "Wanthanee Prachuabsupakij",
      "userId": "13160947104043617262"
     },
     "user_tz": -420
    },
    "id": "NjoiLw1fbElP",
    "outputId": "920dffe3-bd12-4b1a-cb60-1e3c983bebab"
   },
   "outputs": [
    {
     "name": "stdout",
     "output_type": "stream",
     "text": [
      "Enter your age: 19\n",
      "Is the user an adult (18+)?  True\n",
      "Is the user eligible for senior discounts (60+)? False\n",
      "Is the user under 18?  False\n"
     ]
    }
   ],
   "source": [
    "# Input age\n",
    "age = int(input(\"Enter your age: \"))\n",
    "\n",
    "# Perform age comparisons\n",
    "is_adult = age >= 18\n",
    "is_senior = age >= 60\n",
    "\n",
    "# Display results\n",
    "print(\"Is the user an adult (18+)? \",is_adult)\n",
    "print(\"Is the user eligible for senior discounts (60+)?\",is_senior)\n",
    "print(\"Is the user under 18? \", age < 18)\n"
   ]
  },
  {
   "cell_type": "markdown",
   "metadata": {
    "id": "oKtiG7HNk88c"
   },
   "source": [
    "## 3. Assignment operators"
   ]
  },
  {
   "cell_type": "markdown",
   "metadata": {
    "id": "KwgxfSz2k88c"
   },
   "source": [
    "In Python, Assignment operators are used to assigning value to the variable. Assign operator is denoted by = symbol.\n"
   ]
  },
  {
   "cell_type": "markdown",
   "metadata": {
    "id": "uj1Bds2ok88c"
   },
   "source": [
    "|Operator|Description|Example\n",
    "|:- |:- |:-\n",
    "|= | Assigns values from right side operands to left side operand|c = a + b assigns value of a + b into c\n",
    "|+= Add AND|It adds right operand to the left operand and assign the result to left operand|c += a is equivalent to c = c + a\n",
    "|-= Subtract AND | It subtracts right operand from the left operand and assign the result to left operand|c -= a is equivalent to c = c - a\n",
    "|*= Multiply AND|It multiplies right operand with the left operand and assign the result to left operand|c *= a is equivalent to c = c * a\n",
    " /= Divide AND|It divides left operand with the right operand and assign the result to left operand|c /= a is equivalent to c = c / a\n",
    "%= Modulus ANd |It takes modulus using two operands and assign the result to left operand|c %= a is equivalent to c = c % a\n",
    "**= Exponent AND|Performs exponential (power) calculation on operators and assign value to the left operand|c **= a is equivalent to c = c ** a\n",
    "//= Floor Division|It performs floor division on operators and assign value to the left operand|c //= a is equivalent to c = c // a"
   ]
  },
  {
   "cell_type": "code",
   "execution_count": null,
   "metadata": {
    "colab": {
     "base_uri": "https://localhost:8080/"
    },
    "executionInfo": {
     "elapsed": 357,
     "status": "ok",
     "timestamp": 1721362812072,
     "user": {
      "displayName": "Wanthanee Prachuabsupakij",
      "userId": "13160947104043617262"
     },
     "user_tz": -420
    },
    "id": "AmtmW8Cqk88d",
    "outputId": "73eea853-e3c6-4b69-aae3-bdb33078a108"
   },
   "outputs": [
    {
     "name": "stdout",
     "output_type": "stream",
     "text": [
      "6\n",
      "2\n",
      "8\n",
      "2.0\n",
      "16\n",
      "1\n",
      "2\n"
     ]
    }
   ],
   "source": [
    "a = 4\n",
    "b = 2\n",
    "\n",
    "a += b\n",
    "print(a)  # 6\n",
    "\n",
    "a = 4\n",
    "a -= 2\n",
    "print(a)  # 2\n",
    "\n",
    "a = 4\n",
    "a *= 2\n",
    "print(a)  # 8\n",
    "\n",
    "a = 4\n",
    "a /= 2\n",
    "print(a)  # 2.0\n",
    "\n",
    "a = 4\n",
    "a **= 2\n",
    "print(a)  # 16\n",
    "\n",
    "a = 5\n",
    "a %= 2\n",
    "print(a)  # 1\n",
    "\n",
    "a = 4\n",
    "a //= 2\n",
    "print(a)  # 2"
   ]
  },
  {
   "cell_type": "markdown",
   "metadata": {
    "id": "XGx8fHxcZO7m"
   },
   "source": [
    "**Exercise : Assignment operators in Bank Account Management**\n",
    "\n",
    "Write a Python program to simulate a bank account system where:\n",
    "* The user starts with an initial balance.\n",
    "* The user can deposit an amount, which updates the balance using the += operator.\n",
    "* The user can withdraw an amount, which updates the balance using the -= operator.\n",
    "* Display the updated balance after each operation\n"
   ]
  },
  {
   "cell_type": "code",
   "execution_count": null,
   "metadata": {
    "id": "ooFnuNCVaLuK"
   },
   "outputs": [],
   "source": [
    "#เขียนโปรแกรมตรงนี้\n",
    "balance = 0\n",
    "while True:\n",
    "    choice = input(\"What do you want to do (dept or width) : \")\n",
    "\n",
    "    if choice == \"dept\":\n",
    "        dept = float(input(\"Enter the amount to deposit : \"))\n",
    "        balance -= dept\n",
    "        print(f\"your dept is : {dept:.2f}, Your new balance is : {balance:.2f}\")\n",
    "\n",
    "    elif choice == \"width\":\n",
    "        width = float(input(\"Enter the amount to widthdraw : \"))\n",
    "        balance += width\n",
    "        print(f\"your dept is : {width:.2f}, Your new balance is : {balance:.2f}\")\n",
    "    else:\n",
    "        break"
   ]
  },
  {
   "cell_type": "code",
   "execution_count": 3,
   "metadata": {
    "colab": {
     "base_uri": "https://localhost:8080/"
    },
    "executionInfo": {
     "elapsed": 13859,
     "status": "ok",
     "timestamp": 1732589928748,
     "user": {
      "displayName": "Wanthanee Prachuabsupakij",
      "userId": "13160947104043617262"
     },
     "user_tz": -420
    },
    "id": "GycQ-ktYZeHp",
    "outputId": "1f9e8d61-f969-4970-ae7c-b907d482b451"
   },
   "outputs": [
    {
     "name": "stdout",
     "output_type": "stream",
     "text": [
      "Enter your initial balance: 50000\n",
      "Enter the amount to deposit: 1500\n",
      "After depositing 1,500.00, your new balance is: 51,500.00\n",
      "Enter the amount to withdraw: 2000\n",
      "After withdrawing 2,000.00, your new balance is: 49,500.00\n"
     ]
    }
   ],
   "source": []
  },
  {
   "cell_type": "markdown",
   "metadata": {
    "id": "Mv9w5ofEk88d"
   },
   "source": [
    "## 4. Logical operators"
   ]
  },
  {
   "cell_type": "markdown",
   "metadata": {
    "id": "FjJr7j60k88d"
   },
   "source": [
    "Logical operators are useful when checking a condition is true or not. Python has three logical operators. All logical operator returns a boolean value True or False depending on the condition in which it is used."
   ]
  },
  {
   "cell_type": "markdown",
   "metadata": {
    "id": "e1C6CDrjk88d"
   },
   "source": [
    "| Operator | Description | Example\n",
    "|:- | --------- | ----------- |\n",
    "|and Logical AND |\tIf both the operands are true then condition becomes true. | (a and b) is true.\n",
    "|or Logical OR\t| If any of the two operands are non-zero then condition becomes true.|\t(a or b) is true.\n",
    "|not Logical NOT|\tUsed to reverse the logical state of its operand.|\tNot(a and b) is false."
   ]
  },
  {
   "cell_type": "markdown",
   "metadata": {
    "id": "pecRBwOQk88d"
   },
   "source": [
    "#####**and (Logical and)**\n",
    "\n",
    "The logical and operator returns True if both expressions are True. Otherwise, it will return. False."
   ]
  },
  {
   "cell_type": "code",
   "execution_count": null,
   "metadata": {
    "colab": {
     "base_uri": "https://localhost:8080/"
    },
    "executionInfo": {
     "elapsed": 372,
     "status": "ok",
     "timestamp": 1721362827281,
     "user": {
      "displayName": "Wanthanee Prachuabsupakij",
      "userId": "13160947104043617262"
     },
     "user_tz": -420
    },
    "id": "mx2--FeXk88e",
    "outputId": "4ba19597-eb4a-4565-adb8-8d8e4a0230bf"
   },
   "outputs": [
    {
     "name": "stdout",
     "output_type": "stream",
     "text": [
      "False\n",
      "True\n",
      "False\n",
      "False\n",
      "8\n"
     ]
    }
   ],
   "source": [
    "print(True and False)  # False\n",
    "# both are True\n",
    "print(True and True)  # True\n",
    "print(False and False)  # False\n",
    "print(False and True)  # false\n",
    "\n",
    "# actual use in code\n",
    "a = 2\n",
    "b = 4\n",
    "\n",
    "# Logical and\n",
    "if a > 0 and b > 0:\n",
    "    # both conditions are true\n",
    "    print(a * b)\n",
    "else:\n",
    "    print(\"Do nothing\")"
   ]
  },
  {
   "cell_type": "markdown",
   "metadata": {
    "id": "x1b57Cstk88e"
   },
   "source": [
    "in the case of arithmetic values, Logical and always returns the second value; as a result, see the following example."
   ]
  },
  {
   "cell_type": "code",
   "execution_count": null,
   "metadata": {
    "colab": {
     "base_uri": "https://localhost:8080/"
    },
    "executionInfo": {
     "elapsed": 354,
     "status": "ok",
     "timestamp": 1721362858092,
     "user": {
      "displayName": "Wanthanee Prachuabsupakij",
      "userId": "13160947104043617262"
     },
     "user_tz": -420
    },
    "id": "sg9qHQGak88e",
    "outputId": "3a0897c7-15eb-466e-c303-09c0cdee1e91"
   },
   "outputs": [
    {
     "name": "stdout",
     "output_type": "stream",
     "text": [
      "20\n",
      "5\n",
      "300\n"
     ]
    }
   ],
   "source": [
    "print(10 and 20) # 20\n",
    "print(10 and 5)  # 5\n",
    "print(100 and 300) # 300"
   ]
  },
  {
   "cell_type": "markdown",
   "metadata": {
    "id": "b9OX_XZUk88e"
   },
   "source": [
    "##### **or (Logical or)**\n",
    "The logical or the operator returns a boolean  True if one expression is true, and it returns False if both values are false."
   ]
  },
  {
   "cell_type": "code",
   "execution_count": null,
   "metadata": {
    "colab": {
     "base_uri": "https://localhost:8080/"
    },
    "executionInfo": {
     "elapsed": 362,
     "status": "ok",
     "timestamp": 1721362959282,
     "user": {
      "displayName": "Wanthanee Prachuabsupakij",
      "userId": "13160947104043617262"
     },
     "user_tz": -420
    },
    "id": "_xjWkrjEk88e",
    "outputId": "291cb5d3-ff43-44bf-e708-73b5835a964e"
   },
   "outputs": [
    {
     "name": "stdout",
     "output_type": "stream",
     "text": [
      "True\n",
      "True\n",
      "False\n",
      "True\n",
      "6\n"
     ]
    }
   ],
   "source": [
    "print(True or False)  # True\n",
    "print(True or True)  # True\n",
    "print(False or False)  # false\n",
    "print(False or True)  # True\n",
    "\n",
    "# actual use in code\n",
    "x = 2\n",
    "y = 4\n",
    "\n",
    "# Logical and\n",
    "if x > 0 or y < 0:\n",
    "    # at least one expression is true so conditions is true\n",
    "    print(x + y)  # 6\n",
    "else:\n",
    "    print(\"Do nothing\")"
   ]
  },
  {
   "cell_type": "markdown",
   "metadata": {
    "id": "zb-NcfTqk88f"
   },
   "source": [
    "In the case of arithmetic values, Logical or it always returns the first value; as a result, see the following code."
   ]
  },
  {
   "cell_type": "code",
   "execution_count": null,
   "metadata": {
    "colab": {
     "base_uri": "https://localhost:8080/"
    },
    "executionInfo": {
     "elapsed": 358,
     "status": "ok",
     "timestamp": 1721362974750,
     "user": {
      "displayName": "Wanthanee Prachuabsupakij",
      "userId": "13160947104043617262"
     },
     "user_tz": -420
    },
    "id": "3W171jd6k88f",
    "outputId": "9f49e57f-0b74-45b0-d423-d919ca548d2f"
   },
   "outputs": [
    {
     "name": "stdout",
     "output_type": "stream",
     "text": [
      "10\n",
      "10\n",
      "100\n"
     ]
    }
   ],
   "source": [
    "print(10 or 20) # 10\n",
    "print(10 or 5) # 10\n",
    "print(100 or 300) # 100"
   ]
  },
  {
   "cell_type": "markdown",
   "metadata": {
    "id": "4s74VrClk88f"
   },
   "source": [
    "##### not (Logical not)\n",
    "The logical not operator returns boolean True if the expression is false."
   ]
  },
  {
   "cell_type": "code",
   "execution_count": null,
   "metadata": {
    "colab": {
     "base_uri": "https://localhost:8080/"
    },
    "executionInfo": {
     "elapsed": 348,
     "status": "ok",
     "timestamp": 1721362998840,
     "user": {
      "displayName": "Wanthanee Prachuabsupakij",
      "userId": "13160947104043617262"
     },
     "user_tz": -420
    },
    "id": "HO6veyESk88f",
    "outputId": "81ea7ab4-57bf-46d6-ad58-5aaa0daaa873"
   },
   "outputs": [
    {
     "name": "stdout",
     "output_type": "stream",
     "text": [
      "True\n",
      "False\n",
      "Do nothing\n"
     ]
    }
   ],
   "source": [
    "print(not False)  # True return complements result\n",
    "print(not True)  # True return complements result\n",
    "\n",
    "# actual use in code\n",
    "a = True\n",
    "\n",
    "# Logical not\n",
    "if not a:\n",
    "    # a is True so expression is False\n",
    "    print(a)\n",
    "else:\n",
    "    print(\"Do nothing\")"
   ]
  },
  {
   "cell_type": "markdown",
   "metadata": {
    "id": "apxeTaOwk88f"
   },
   "source": [
    "In the case of arithmetic values, Logical not always return False for nonzero value.\n",
    "\n"
   ]
  },
  {
   "cell_type": "code",
   "execution_count": null,
   "metadata": {
    "colab": {
     "base_uri": "https://localhost:8080/"
    },
    "executionInfo": {
     "elapsed": 355,
     "status": "ok",
     "timestamp": 1721363023021,
     "user": {
      "displayName": "Wanthanee Prachuabsupakij",
      "userId": "13160947104043617262"
     },
     "user_tz": -420
    },
    "id": "lNYt32g1k88g",
    "outputId": "781d77b7-e072-4828-8fe4-5040ce2e5aff"
   },
   "outputs": [
    {
     "name": "stdout",
     "output_type": "stream",
     "text": [
      "False\n",
      "False\n",
      "False\n",
      "True\n"
     ]
    }
   ],
   "source": [
    "print(not 10) # False. Non-zero value\n",
    "print(not 1)  # false. Non-zero value\n",
    "print(not 5)  # False. Non-zero value\n",
    "print(not 0)  # True. zero value"
   ]
  },
  {
   "cell_type": "markdown",
   "metadata": {
    "id": "rp2DNyd9UOIO"
   },
   "source": [
    "**Real word use case with Access Control with Logical Operators**\n",
    "\n",
    "\n",
    "You are implementing a simple access control system for a secured facility. The system checks the following conditions:\n",
    "\n",
    "* The user must have a valid ID card (True or False).\n",
    "* The user must know the access code.\n",
    "* The user should not be blacklisted."
   ]
  },
  {
   "cell_type": "code",
   "execution_count": null,
   "metadata": {
    "colab": {
     "base_uri": "https://localhost:8080/"
    },
    "executionInfo": {
     "elapsed": 9068,
     "status": "ok",
     "timestamp": 1732437729608,
     "user": {
      "displayName": "Wanthanee Prachuabsupakij",
      "userId": "13160947104043617262"
     },
     "user_tz": -420
    },
    "id": "FiKmcZjDUNX5",
    "outputId": "e49df0ca-2e70-4b48-ea4f-34d202b51014"
   },
   "outputs": [
    {
     "name": "stdout",
     "output_type": "stream",
     "text": [
      "Do you have a valid ID card? (yes/no): yes\n",
      "Do you know the access code? (yes/no): yes\n",
      "Are you blacklisted? (yes/no): no\n",
      "True\n",
      "True\n",
      "Access granted. Welcome to the facility!\n"
     ]
    }
   ],
   "source": [
    "# Input user information\n",
    "has_id_card = input(\"Do you have a valid ID card? (yes/no): \").strip().lower() == \"yes\"\n",
    "knows_access_code = input(\"Do you know the access code? (yes/no): \").strip().lower() == \"yes\"\n",
    "is_blacklisted = input(\"Are you blacklisted? (yes/no): \").strip().lower() == \"yes\"\n",
    "\n",
    "# Evaluate access conditions\n",
    "can_access = has_id_card and knows_access_code and not is_blacklisted\n",
    "\n",
    "print(can_access)\n",
    "\n",
    "# Output the result\n",
    "if can_access:\n",
    "    print(\"Access granted. Welcome to the facility!\")\n",
    "else:\n",
    "    print(\"Access denied.\")\n"
   ]
  },
  {
   "cell_type": "markdown",
   "metadata": {
    "id": "NyI4El4rk88g"
   },
   "source": [
    "## 5. Membership operators"
   ]
  },
  {
   "cell_type": "markdown",
   "metadata": {
    "id": "O5f-PseLk88g"
   },
   "source": [
    "Python’s membership operators are used to check for membership of objects in sequence, such as string, list, tuple. It checks whether the given value or variable is present in a given sequence. If present, it will return True else False.\n",
    "\n",
    "In Python, there are two membership operator in and not in"
   ]
  },
  {
   "cell_type": "markdown",
   "metadata": {
    "id": "SMf_mpRLk88g"
   },
   "source": [
    "##### In operator\n",
    "It returns a result as True if it finds a given object in the sequence. Otherwise, it returns False.\n",
    "\n",
    "Let’s check if the number 15 present in a given list using the in operator."
   ]
  },
  {
   "cell_type": "code",
   "execution_count": null,
   "metadata": {
    "colab": {
     "base_uri": "https://localhost:8080/"
    },
    "executionInfo": {
     "elapsed": 342,
     "status": "ok",
     "timestamp": 1721363043299,
     "user": {
      "displayName": "Wanthanee Prachuabsupakij",
      "userId": "13160947104043617262"
     },
     "user_tz": -420
    },
    "id": "9nB_cjq4k88g",
    "outputId": "cd39b098-b464-4aaf-8f66-d09d6fdf5edb"
   },
   "outputs": [
    {
     "name": "stdout",
     "output_type": "stream",
     "text": [
      "number is present\n"
     ]
    }
   ],
   "source": [
    "my_list = [11, 15, 21, 29, 50, 70]\n",
    "num = 15\n",
    "if num in my_list:\n",
    "    print(\"number is present\")\n",
    "else:\n",
    "    print(\"number is not present\")"
   ]
  },
  {
   "cell_type": "markdown",
   "metadata": {
    "id": "lHQjwxTNk88g"
   },
   "source": [
    "##### Not in operator\n",
    "It returns True if the object is not present in a given sequence. Otherwise, it returns False"
   ]
  },
  {
   "cell_type": "code",
   "execution_count": null,
   "metadata": {
    "colab": {
     "base_uri": "https://localhost:8080/"
    },
    "executionInfo": {
     "elapsed": 328,
     "status": "ok",
     "timestamp": 1721363048387,
     "user": {
      "displayName": "Wanthanee Prachuabsupakij",
      "userId": "13160947104043617262"
     },
     "user_tz": -420
    },
    "id": "Q27rHF8Ek88g",
    "outputId": "1a8e0f6a-5963-4959-f95d-5b2d968b7a99"
   },
   "outputs": [
    {
     "name": "stdout",
     "output_type": "stream",
     "text": [
      "number is not present\n"
     ]
    }
   ],
   "source": [
    "my_tuple = (11, 15, 21, 29, 50, 70)\n",
    "number = 35\n",
    "if number not in my_tuple:\n",
    "    print(\"number is not present\")\n",
    "else:\n",
    "    print(\"number is present\")"
   ]
  },
  {
   "cell_type": "markdown",
   "metadata": {
    "id": "CMZrTmhqk88h"
   },
   "source": [
    "# Identity operators\n",
    "Use the Identity operator to check whether the value of two variables is the same or not. This operator is known as a reference-quality operator because the identity operator compares values according to two variables’ memory addresses.\n",
    "\n",
    "Python has 2 identity operators is and is not."
   ]
  },
  {
   "cell_type": "markdown",
   "metadata": {
    "id": "lhHtP9TXk88h"
   },
   "source": [
    "##### is operator\n",
    "The is operator returns Boolean True or False. It Return True if the memory address first value is equal to the second value. Otherwise, it returns False."
   ]
  },
  {
   "cell_type": "code",
   "execution_count": null,
   "metadata": {
    "colab": {
     "base_uri": "https://localhost:8080/"
    },
    "executionInfo": {
     "elapsed": 329,
     "status": "ok",
     "timestamp": 1721363087554,
     "user": {
      "displayName": "Wanthanee Prachuabsupakij",
      "userId": "13160947104043617262"
     },
     "user_tz": -420
    },
    "id": "g9CY55b8k88h",
    "outputId": "f2ef99a8-0511-4804-a5fe-1338b5600322"
   },
   "outputs": [
    {
     "name": "stdout",
     "output_type": "stream",
     "text": [
      "False\n",
      "True\n"
     ]
    }
   ],
   "source": [
    "x = 10\n",
    "y = 11\n",
    "z = 10\n",
    "print(x is y) # it compare memory address of x and y\n",
    "print(x is z) # it compare memory address of x and z"
   ]
  },
  {
   "cell_type": "code",
   "execution_count": 10,
   "metadata": {
    "colab": {
     "base_uri": "https://localhost:8080/"
    },
    "executionInfo": {
     "elapsed": 321,
     "status": "ok",
     "timestamp": 1732590687814,
     "user": {
      "displayName": "Wanthanee Prachuabsupakij",
      "userId": "13160947104043617262"
     },
     "user_tz": -420
    },
    "id": "nfY7b_1Hk88h",
    "outputId": "301d165f-7e89-4a65-e3fe-61c6873ad59e"
   },
   "outputs": [
    {
     "name": "stdout",
     "output_type": "stream",
     "text": [
      "True\n",
      "True\n"
     ]
    }
   ],
   "source": [
    "# Here, we can use is() function to check whether both variables are pointing to the same object or not.\n",
    "x = 10\n",
    "y = 10\n",
    "z = 10\n",
    "print(x is y) # it compare memory address of x and y\n",
    "print(x is z) # it compare memory address of x and"
   ]
  },
  {
   "cell_type": "markdown",
   "metadata": {
    "id": "uffEmpEak88h"
   },
   "source": [
    "##### is not operator\n",
    "The is not the operator returns boolean values either True or False. It Return True if the first value is not equal to the second value. Otherwise, it returns False."
   ]
  },
  {
   "cell_type": "code",
   "execution_count": 11,
   "metadata": {
    "colab": {
     "base_uri": "https://localhost:8080/"
    },
    "executionInfo": {
     "elapsed": 313,
     "status": "ok",
     "timestamp": 1732590695061,
     "user": {
      "displayName": "Wanthanee Prachuabsupakij",
      "userId": "13160947104043617262"
     },
     "user_tz": -420
    },
    "id": "wxYUpjbYk88h",
    "outputId": "fce2477e-7f2a-4e9e-edac-85c98cb05ea4"
   },
   "outputs": [
    {
     "name": "stdout",
     "output_type": "stream",
     "text": [
      "True\n",
      "False\n"
     ]
    }
   ],
   "source": [
    "x = 10\n",
    "y = 11\n",
    "z = 10\n",
    "print(x is not y) # it campare memory address of x and y\n",
    "print(x is not z) # it campare memory address of x and z"
   ]
  },
  {
   "cell_type": "markdown",
   "metadata": {
    "id": "SetpcMTjk88h"
   },
   "source": [
    "## 7. Bitwise Operators"
   ]
  },
  {
   "cell_type": "markdown",
   "metadata": {
    "id": "vqeNMyIMk88i"
   },
   "source": [
    "In Python, bitwise operators are used to performing bitwise operations on integers. To perform bitwise, we first need to convert integer value to binary (0 and 1) value.\n",
    "\n",
    "The bitwise operator operates on values bit by bit, so it’s called bitwise. It always returns the result in decimal format. Python has 6 bitwise operators listed below.\n",
    "\n",
    "* [&] Bitwise and\n",
    "* [|] Bitwise or\n",
    "* [^] Bitwise xor\n",
    "* [~] Bitwise 1’s complement\n",
    "* [<<] Bitwise left-shift\n",
    "* [>>] Bitwise right-shift"
   ]
  },
  {
   "cell_type": "markdown",
   "metadata": {
    "id": "erOU_WUVk88i"
   },
   "source": [
    "It performs logical AND operation on the integer value after converting an integer to a binary value and gives the result as a decimal value. It returns True only if both operands are True. Otherwise, it returns False."
   ]
  },
  {
   "cell_type": "code",
   "execution_count": 12,
   "metadata": {
    "colab": {
     "base_uri": "https://localhost:8080/"
    },
    "executionInfo": {
     "elapsed": 302,
     "status": "ok",
     "timestamp": 1732590698678,
     "user": {
      "displayName": "Wanthanee Prachuabsupakij",
      "userId": "13160947104043617262"
     },
     "user_tz": -420
    },
    "id": "84tRU6eIk88i",
    "outputId": "5da6626d-bbbc-4124-e611-6d09a2d7ac19"
   },
   "outputs": [
    {
     "name": "stdout",
     "output_type": "stream",
     "text": [
      "4\n",
      "5\n",
      "4\n"
     ]
    }
   ],
   "source": [
    "a = 7\n",
    "b = 4\n",
    "c = 5\n",
    "print(a & b)\n",
    "print(a & c)\n",
    "print(b & c)"
   ]
  },
  {
   "cell_type": "markdown",
   "metadata": {
    "id": "tTVwkK0Gk88i"
   },
   "source": [
    "Here, every integer value is converted into a binary value. For example, a =7, its binary value is 0111, and b=4, its binary value is 0100. Next we performed logical AND, and got 0100 as a result, similarly for a and c, b and c\n",
    "\n",
    "Following diagram shows AND operator evaluation.\n",
    "\n"
   ]
  },
  {
   "cell_type": "markdown",
   "metadata": {
    "id": "PS1LGOW1k88i"
   },
   "source": [
    "![python-bitwise-and-operator.webp](attachment:python-bitwise-and-operator.webp)"
   ]
  },
  {
   "cell_type": "markdown",
   "metadata": {
    "id": "Ji3BukoTk88i"
   },
   "source": [
    "##### Bitwise or |\n",
    "It performs logical OR operation on the integer value after converting integer value to binary value and gives the result a decimal value. It returns False only if both operands are True. Otherwise, it returns True."
   ]
  },
  {
   "cell_type": "code",
   "execution_count": 13,
   "metadata": {
    "colab": {
     "base_uri": "https://localhost:8080/"
    },
    "executionInfo": {
     "elapsed": 300,
     "status": "ok",
     "timestamp": 1732590709655,
     "user": {
      "displayName": "Wanthanee Prachuabsupakij",
      "userId": "13160947104043617262"
     },
     "user_tz": -420
    },
    "id": "iYWyK37pk88i",
    "outputId": "e3f790ee-c814-4d33-92da-24312968870a"
   },
   "outputs": [
    {
     "name": "stdout",
     "output_type": "stream",
     "text": [
      "7\n",
      "7\n",
      "5\n"
     ]
    }
   ],
   "source": [
    "a = 7\n",
    "b = 4\n",
    "c = 5\n",
    "print(a | b)\n",
    "print(a | c)\n",
    "print(b | c)"
   ]
  },
  {
   "cell_type": "markdown",
   "metadata": {
    "id": "h6DQK_2wk88i"
   },
   "source": [
    "Here, every integer value is converted into binary. For example, a =7 its binary value is 0111, and b=4, its binary value is 0100, after logical OR, we got 0111 as a result. Similarly for a and c, b and c."
   ]
  },
  {
   "cell_type": "markdown",
   "metadata": {
    "id": "aD4EWeuVk88j"
   },
   "source": [
    "##### Bitwise xor ^\n",
    "It performs Logical XOR ^ operation on the binary value of a integer and gives the result as a decimal value."
   ]
  },
  {
   "cell_type": "code",
   "execution_count": null,
   "metadata": {
    "colab": {
     "base_uri": "https://localhost:8080/"
    },
    "executionInfo": {
     "elapsed": 341,
     "status": "ok",
     "timestamp": 1721363128043,
     "user": {
      "displayName": "Wanthanee Prachuabsupakij",
      "userId": "13160947104043617262"
     },
     "user_tz": -420
    },
    "id": "WKorPlrZk88j",
    "outputId": "b3b9f03e-e287-4102-a98e-b740e11ca8c2"
   },
   "outputs": [
    {
     "name": "stdout",
     "output_type": "stream",
     "text": [
      "2\n",
      "1\n"
     ]
    }
   ],
   "source": [
    "a = 7\n",
    "b = 4\n",
    "c = 5\n",
    "print(a ^ c)\n",
    "print(b ^ c)"
   ]
  },
  {
   "cell_type": "markdown",
   "metadata": {
    "id": "0lY_bG3Ck88j"
   },
   "source": [
    "Here, again every integer value is converted into binary. For example, a =7 its binary value is 0111 and b=4, and its binary value is 0100, after logical XOR we got 0011 as a result. Similarly for a and c, b and c."
   ]
  },
  {
   "cell_type": "markdown",
   "metadata": {
    "id": "DJrkf1hJk88j"
   },
   "source": [
    "##### Bitwise 1’s complement ~\n",
    "It performs 1’s complement operation. It invert each bit of binary value and returns the bitwise negation of a value as a result."
   ]
  },
  {
   "cell_type": "code",
   "execution_count": null,
   "metadata": {
    "colab": {
     "base_uri": "https://localhost:8080/"
    },
    "executionInfo": {
     "elapsed": 336,
     "status": "ok",
     "timestamp": 1721363207889,
     "user": {
      "displayName": "Wanthanee Prachuabsupakij",
      "userId": "13160947104043617262"
     },
     "user_tz": -420
    },
    "id": "kg1esvxRk88j",
    "outputId": "778b0a88-7569-45c5-e71b-b04b7d599b56"
   },
   "outputs": [
    {
     "name": "stdout",
     "output_type": "stream",
     "text": [
      "-8 -5 -4\n"
     ]
    }
   ],
   "source": [
    "a = 7\n",
    "b = 4\n",
    "c = 3\n",
    "print(~a, ~b, ~c   )\n",
    "# Output -8 -5 -4"
   ]
  },
  {
   "cell_type": "markdown",
   "metadata": {
    "id": "RnyNnC2gk88k"
   },
   "source": [
    "##### Bitwise left-shift <<\n",
    "The left-shift << operator performs a shifting bit of value by a given number of the place and fills 0’s to new positions."
   ]
  },
  {
   "cell_type": "code",
   "execution_count": null,
   "metadata": {
    "colab": {
     "base_uri": "https://localhost:8080/"
    },
    "executionInfo": {
     "elapsed": 358,
     "status": "ok",
     "timestamp": 1721363210843,
     "user": {
      "displayName": "Wanthanee Prachuabsupakij",
      "userId": "13160947104043617262"
     },
     "user_tz": -420
    },
    "id": "dM8br_Fgk88k",
    "outputId": "d786da81-288f-4853-fb65-2bc1ad24d857"
   },
   "outputs": [
    {
     "name": "stdout",
     "output_type": "stream",
     "text": [
      "16\n",
      "40\n"
     ]
    }
   ],
   "source": [
    "print(4 << 2)\n",
    "# Output 16\n",
    "print(5 << 3)\n",
    "# Output 40"
   ]
  },
  {
   "cell_type": "markdown",
   "metadata": {
    "id": "3ZpD-N8-k88k"
   },
   "source": [
    "##### Bitwise right-shift >>\n",
    "The left-shift >> operator performs shifting a bit of value to the right by a given number of places. Here some bits are lost."
   ]
  },
  {
   "cell_type": "code",
   "execution_count": null,
   "metadata": {
    "colab": {
     "base_uri": "https://localhost:8080/"
    },
    "executionInfo": {
     "elapsed": 340,
     "status": "ok",
     "timestamp": 1721363220263,
     "user": {
      "displayName": "Wanthanee Prachuabsupakij",
      "userId": "13160947104043617262"
     },
     "user_tz": -420
    },
    "id": "gtLMk9vik88k",
    "outputId": "0bd235e4-17da-4325-8a5d-371d367d1977"
   },
   "outputs": [
    {
     "name": "stdout",
     "output_type": "stream",
     "text": [
      "1\n",
      "1\n"
     ]
    }
   ],
   "source": [
    "print(4 >> 2)\n",
    "# Output\n",
    "print(5 >> 2)\n",
    "# Output"
   ]
  },
  {
   "cell_type": "markdown",
   "metadata": {
    "id": "Sf7vA0E_T05l"
   },
   "source": [
    "**Bitwise with real world problem about Data Compression Simulation**\n",
    "\n",
    "You are designing a simple simulation for compressing and decompressing numeric data. Write a program that:\n",
    "\n",
    "* Compresses a number by left-shifting it by 3 (simulate multiplying by 8).\n",
    "* Decompresses the number by right-shifting it by 3 (simulate dividing by 8).\n",
    "* Explain why this operation is useful in reducing the size of numeric data for transmission."
   ]
  },
  {
   "cell_type": "code",
   "execution_count": null,
   "metadata": {
    "colab": {
     "base_uri": "https://localhost:8080/"
    },
    "executionInfo": {
     "elapsed": 5546,
     "status": "ok",
     "timestamp": 1732437241051,
     "user": {
      "displayName": "Wanthanee Prachuabsupakij",
      "userId": "13160947104043617262"
     },
     "user_tz": -420
    },
    "id": "_c5d17QbTkWP",
    "outputId": "3a9682b4-c301-4e65-d026-456e00c4dc8a"
   },
   "outputs": [
    {
     "name": "stdout",
     "output_type": "stream",
     "text": [
      "Enter a number to compress: 6846\n",
      "Compressed number: 54768\n",
      "Decompressed number: 6846\n",
      "Compression and decompression successful. This method is useful for reducing data size during transmission.\n"
     ]
    }
   ],
   "source": [
    "# Input a number to compress\n",
    "number = int(input(\"Enter a number to compress: \"))\n",
    "\n",
    "# Compress the number (left shift by 3)\n",
    "compressed_number = number << 3\n",
    "print(f\"Compressed number: {compressed_number}\")\n",
    "\n",
    "# Decompress the number (right shift by 3)\n",
    "decompressed_number = compressed_number >> 3\n",
    "print(f\"Decompressed number: {decompressed_number}\")\n",
    "\n",
    "# Explanation\n",
    "if decompressed_number == number:\n",
    "    print(\"Compression and decompression successful. This method is useful for reducing data size during transmission.\")\n",
    "else:\n",
    "    print(\"There was an error in compression or decompression.\")\n"
   ]
  },
  {
   "cell_type": "markdown",
   "metadata": {
    "id": "8D0E0eYqk88k"
   },
   "source": [
    "#### Python Operators Precedence"
   ]
  },
  {
   "cell_type": "markdown",
   "metadata": {
    "id": "kkuSOLhrk88k"
   },
   "source": [
    "In Python, operator precedence and associativity play an essential role in solving the expression. An expression is the combination of variables and operators that evaluate based on operator precedence.\n",
    "\n",
    "We must know what the precedence (priority) of that operator is and how they will evaluate down to a single value. Operator precedence is used in an expression to determine which operation to perform first."
   ]
  },
  {
   "cell_type": "code",
   "execution_count": 14,
   "metadata": {
    "colab": {
     "base_uri": "https://localhost:8080/"
    },
    "executionInfo": {
     "elapsed": 334,
     "status": "ok",
     "timestamp": 1732591038618,
     "user": {
      "displayName": "Wanthanee Prachuabsupakij",
      "userId": "13160947104043617262"
     },
     "user_tz": -420
    },
    "id": "FEaS4hUhk88k",
    "outputId": "51d19d5b-11f0-4c7b-fdae-e52619ef50d4"
   },
   "outputs": [
    {
     "name": "stdout",
     "output_type": "stream",
     "text": [
      "42\n"
     ]
    }
   ],
   "source": [
    "print((18-3) * 2+(10+2))"
   ]
  },
  {
   "cell_type": "markdown",
   "metadata": {
    "id": "XQq4xyHwk88l"
   },
   "source": [
    "In the above example. 1st precedence goes to a parenthesis(), then for plus and minus operators. The expression will be executed as."
   ]
  },
  {
   "cell_type": "code",
   "execution_count": 15,
   "metadata": {
    "colab": {
     "base_uri": "https://localhost:8080/"
    },
    "executionInfo": {
     "elapsed": 330,
     "status": "ok",
     "timestamp": 1732591041765,
     "user": {
      "displayName": "Wanthanee Prachuabsupakij",
      "userId": "13160947104043617262"
     },
     "user_tz": -420
    },
    "id": "Y0DR54bEk88l",
    "outputId": "2009c975-f11b-4a4f-a305-b74a37e84145"
   },
   "outputs": [
    {
     "data": {
      "text/plain": [
       "42"
      ]
     },
     "execution_count": 15,
     "metadata": {},
     "output_type": "execute_result"
    }
   ],
   "source": [
    "(18 - 3) * 2 +(10+2)\n",
    "15 * 2 + 12\n",
    "30 + 12"
   ]
  },
  {
   "cell_type": "markdown",
   "metadata": {
    "id": "J-3ovQa0k88l"
   },
   "source": [
    "The following tables shows operator precedence highest to lowest."
   ]
  },
  {
   "cell_type": "markdown",
   "metadata": {
    "id": "xHu7ntl-k88l"
   },
   "source": [
    "|Operators|Meaning\n",
    "|:- |:- |\n",
    "() |\tParentheses\n",
    "**\t|Exponent\n",
    "+x, -x, ~x\t | Unary plus, Unary minus, Bitwise NOT\n",
    "*, /, //, % | Multiplication, Division, Floor division, Modulus\n",
    "+, -\t| Addition, Subtraction\n",
    "<<, >>\t| Bitwise shift operators\n",
    "&\t| Bitwise AND\n",
    "^\t| Bitwise XOR\n",
    "$|$  | Bitwise OR|\n",
    "==, !=, >, >=, <, <=, is, is not, in, not in | Comparisons, Identity, Membership operators\n",
    "not\t| Logical NOT\n",
    "and|\tLogical AND\n",
    "or\t|Logical OR"
   ]
  },
  {
   "cell_type": "markdown",
   "metadata": {
    "id": "Sm_FHlNCljyH"
   },
   "source": [
    "### Variable’s case-sensitive"
   ]
  },
  {
   "cell_type": "markdown",
   "metadata": {
    "id": "x5ij0TV0ljyH"
   },
   "source": [
    "Python is a case-sensitive language. If we define a variable with names a = 100 and A =200 then, Python differentiates between a and A. These variables are treated as two different variables (or objects)."
   ]
  },
  {
   "cell_type": "code",
   "execution_count": null,
   "metadata": {
    "colab": {
     "base_uri": "https://localhost:8080/"
    },
    "executionInfo": {
     "elapsed": 337,
     "status": "ok",
     "timestamp": 1721363276471,
     "user": {
      "displayName": "Wanthanee Prachuabsupakij",
      "userId": "13160947104043617262"
     },
     "user_tz": -420
    },
    "id": "1LFCpMwQljyH",
    "outputId": "38b65bc0-f680-4ed7-e014-c45838e2cad6"
   },
   "outputs": [
    {
     "name": "stdout",
     "output_type": "stream",
     "text": [
      "100\n",
      "200\n",
      "300\n"
     ]
    }
   ],
   "source": [
    "a = 100\n",
    "A = 200\n",
    "\n",
    "# value of a\n",
    "print(a)  # 100\n",
    "# Value of A\n",
    "print(A)  # 200\n",
    "\n",
    "a = a + A\n",
    "print(a)  # 300"
   ]
  },
  {
   "cell_type": "markdown",
   "metadata": {
    "id": "ocOhUSGpljyH"
   },
   "source": [
    "### Constant"
   ]
  },
  {
   "cell_type": "markdown",
   "metadata": {
    "id": "_CGnd-EaljyH"
   },
   "source": [
    "Constant is a variable or value that does not change, which means it remains the same and cannot be modified. But in the case of Python, the constant concept is not applicable. By convention, we can use only uppercase characters to define the constant variable if we don’t want to change it."
   ]
  },
  {
   "cell_type": "code",
   "execution_count": null,
   "metadata": {
    "id": "yhr5p-C-ljyH"
   },
   "outputs": [],
   "source": [
    "MIN_VALUE = 500\n",
    "# It is just convention, but we can change the value of MAX_VALUE variable."
   ]
  },
  {
   "cell_type": "markdown",
   "metadata": {
    "id": "XO76dAZlljyI"
   },
   "source": [
    "### Rules and naming convention for variables and constants"
   ]
  },
  {
   "cell_type": "markdown",
   "metadata": {
    "id": "I1M_oSLGljyI"
   },
   "source": [
    " A name in a Python program is called an identifier. An identifier can be a variable name, class name, function name, and module name.\n",
    "\n",
    "There are some rules to define variables in Python.\n",
    "\n",
    "In Python, there are some conventions and rules to define variables and constants that should follow.\n",
    "\n",
    "* Rule 1: The name of the variable and constant should have a combination of letters, digits, and underscore symbols.\n",
    "\n",
    "Alphabet/letters i.e., lowercase (a to z) or uppercase (A to Z)\n",
    "Digits(0 to 9)\n",
    "Underscore symbol (_)\n",
    "\n",
    "For Example :\n",
    "* total_addition\n",
    "* TOTAL_ADDITION\n",
    "* totalAddition\n",
    "* Totaladdition"
   ]
  },
  {
   "cell_type": "markdown",
   "metadata": {
    "id": "TSMjW_nhljyI"
   },
   "source": [
    " * Rule 2: The variable name and constant name should make sense.\n",
    "\n",
    "Note: we should always create a meaningful variable name so it will be easy to understand. That is, it should be meaningful.\n",
    "\n",
    "For Example:\n",
    "x = \"Deepali\"  \n",
    "student_name = \"Deepali\"\n",
    "\n",
    "It above example variable x does not make more sense, but student_name is a meaningful variable.\n"
   ]
  },
  {
   "cell_type": "markdown",
   "metadata": {
    "id": "06qsMXFQljyI"
   },
   "source": [
    "* Rule 3: Don’t’ use special symbols in a variable name\n",
    "\n",
    "For declaring variable and constant, we cannot use special symbols like $, #, @, %, !~, etc. If we try to declare names with a special symbol, Python generates an error\n",
    "\n",
    "Example\n",
    "* ca$h = 1000\n"
   ]
  },
  {
   "cell_type": "markdown",
   "metadata": {
    "id": "3erf-eH6ljyK"
   },
   "source": [
    "* Rule 4:  Variable and constant should not start with digit letters.\n",
    "\n",
    "You will receive an error if you start a variable name with a digit. Let’s verify this using a simple example.\n",
    "\n",
    "* 1studnet = \"Deepali\"\n",
    "* print(1studnet)\n",
    "* Here Python will generate a syntax error at 1studnet. instead of this, you can declare a variable like studnet_1 = \"Deepali\""
   ]
  },
  {
   "cell_type": "markdown",
   "metadata": {
    "id": "Lxhz4knsljyK"
   },
   "source": [
    "* Rule 5: Identifiers are case sensitive.\n",
    "\n"
   ]
  },
  {
   "cell_type": "code",
   "execution_count": null,
   "metadata": {
    "colab": {
     "base_uri": "https://localhost:8080/"
    },
    "executionInfo": {
     "elapsed": 366,
     "status": "ok",
     "timestamp": 1721363316809,
     "user": {
      "displayName": "Wanthanee Prachuabsupakij",
      "userId": "13160947104043617262"
     },
     "user_tz": -420
    },
    "id": "Ft7KV6TaljyK",
    "outputId": "d3f37f0c-6316-4015-fe0a-d717954530d6"
   },
   "outputs": [
    {
     "name": "stdout",
     "output_type": "stream",
     "text": [
      "120\n",
      "130\n",
      "150\n"
     ]
    }
   ],
   "source": [
    "total = 120\n",
    "Total = 130\n",
    "TOTAL = 150\n",
    "print(total)\n",
    "print(Total)\n",
    "print(TOTAL)\n"
   ]
  },
  {
   "cell_type": "markdown",
   "metadata": {
    "id": "y3x2W6RNljyL"
   },
   "source": [
    "Here, Python makes a difference between these variables that is uppercase and lowercase, so that it will create three different variables total, Total, TOTAL."
   ]
  },
  {
   "cell_type": "markdown",
   "metadata": {
    "id": "ic-cX_UDljyL"
   },
   "source": [
    "* Rule 6: To declare constant should use capital letters.\n",
    "\n"
   ]
  },
  {
   "cell_type": "code",
   "execution_count": null,
   "metadata": {
    "id": "xP_te7HrljyM"
   },
   "outputs": [],
   "source": [
    "MIN_VALUE = 100\n",
    "MAX_VALUE = 1000"
   ]
  },
  {
   "cell_type": "markdown",
   "metadata": {
    "id": "RvMnztsXljyM"
   },
   "source": [
    " Use an underscore symbol for separating the words in a variable name\n",
    "\n",
    "If we want to declare variable and constant names having two words, use an underscore symbol for separating the words."
   ]
  },
  {
   "cell_type": "code",
   "execution_count": null,
   "metadata": {
    "id": "SnZzv8UhljyM"
   },
   "outputs": [],
   "source": [
    "current_temperature = 24"
   ]
  },
  {
   "cell_type": "markdown",
   "metadata": {
    "id": "GDjlGgpgljyM"
   },
   "source": [
    "### Assigning multiple values to multiple variables\n"
   ]
  },
  {
   "cell_type": "code",
   "execution_count": null,
   "metadata": {
    "colab": {
     "base_uri": "https://localhost:8080/"
    },
    "executionInfo": {
     "elapsed": 346,
     "status": "ok",
     "timestamp": 1721363346000,
     "user": {
      "displayName": "Wanthanee Prachuabsupakij",
      "userId": "13160947104043617262"
     },
     "user_tz": -420
    },
    "id": "6r0cnlcQljyM",
    "outputId": "07fb036a-363b-41d2-88a8-315365041826"
   },
   "outputs": [
    {
     "name": "stdout",
     "output_type": "stream",
     "text": [
      "10 70 Deepali\n"
     ]
    }
   ],
   "source": [
    "roll_no, marks, name = 10, 70, \"Deepali\"\n",
    "print(roll_no, marks, name) # 10 20 Deepali"
   ]
  },
  {
   "cell_type": "markdown",
   "metadata": {
    "id": "rivmbiklgM2U"
   },
   "source": [
    "# Exercise : Currency Exchange#\n",
    "\n",
    "Write a Python program to convert an amount from Thai Baht (THB) to US Dollars (USD) and Euros (EUR). Assume the user inputs the amount in THB, and the exchange rates are:\n",
    "\n",
    "* 1 THB = 0.03 USD\n",
    "* 1 THB = 0.027 EUR"
   ]
  },
  {
   "cell_type": "code",
   "execution_count": null,
   "metadata": {
    "colab": {
     "base_uri": "https://localhost:8080/"
    },
    "executionInfo": {
     "elapsed": 3683,
     "status": "ok",
     "timestamp": 1732591594075,
     "user": {
      "displayName": "Wanthanee Prachuabsupakij",
      "userId": "13160947104043617262"
     },
     "user_tz": -420
    },
    "id": "s3SqmfFUgSIr",
    "outputId": "4aa6e83b-fc89-43eb-a46f-04c04025198b"
   },
   "outputs": [
    {
     "name": "stdout",
     "output_type": "stream",
     "text": [
      "Enter the amount in Thai Baht (THB): 23000\n",
      "23,000.00 THB is equivalent to 690.00 USD.\n",
      "23,000.00 THB is equivalent to 621.00 EUR.\n"
     ]
    }
   ],
   "source": [
    "def convertCurrency(amount: float, fromCurrency: str, toCurrency: str) -> float:\n",
    "    myD = {'usd':1, 'eur': 0.85, 'gbp': 0.75, 'jpy': 110.0, 'thb': 32.0}\n",
    "\n",
    "    for currency, money in myD.items():\n",
    "        if fromCurrency.lower() == currency:\n",
    "            amount /= money\n",
    "            for i, j in myD.items():\n",
    "                if toCurrency.lower() == i:\n",
    "                    return f\"{amount * j:.2f}\"\n",
    "\n",
    "def main():\n",
    "    print(\"Supported Currencies\\nUSD (United States Dollar)\\nEUR (Euro)\\nGBP (British Pound Sterling)\\nJPY (Japanese Yen)\\nTHB (Thai Baht)\")\n",
    "    amount, fromCurrency, toCurrency = input(\"Enter _Amount_ _currentCurrency_ _toCurrency_ : \").split(\" \")\n",
    "    amount = float(amount)\n",
    "\n",
    "    result = convertCurrency(amount, fromCurrency, toCurrency)\n",
    "    print(result)\n",
    "main()\n"
   ]
  },
  {
   "cell_type": "code",
   "execution_count": null,
   "metadata": {
    "id": "TD9p5heSgdz5"
   },
   "outputs": [],
   "source": [
    "#เขียนโปรแกรมตรงนี้\n",
    "\n",
    "\n"
   ]
  },
  {
   "cell_type": "markdown",
   "metadata": {
    "id": "KlSfDwjRggHx"
   },
   "source": [
    "**Try to convert an about from Thai Bath to other currencies such as JPํY, CNY,CHF**\n",
    "reference https://www.bangkokbank.com/th-th/personal/other-services/view-rates/foreign-exchange-rates"
   ]
  },
  {
   "cell_type": "markdown",
   "metadata": {
    "id": "XuYjxexcOFoW"
   },
   "source": [
    "# Homework\n"
   ]
  },
  {
   "cell_type": "markdown",
   "metadata": {
    "id": "kdZ_cuhYPn4P"
   },
   "source": [
    "Calculate Monthly Installments:\n",
    "\n",
    "Write a Python program to calculate the monthly installment for a loan. The user will input\n",
    "*  the loan amount\n",
    "*  the annual interest rate (as a percentage), and\n",
    "*  the number of years to pay off the loan.\n",
    "\n",
    "Use the formula:\n",
    "![ww.JPG](data:image/jpeg;base64,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)"
   ]
  },
  {
   "cell_type": "code",
   "execution_count": null,
   "metadata": {
    "id": "dSmerSZCQRfW"
   },
   "outputs": [],
   "source": [
    "#เขียนโปรแกรมตรงนี้\n"
   ]
  },
  {
   "cell_type": "code",
   "execution_count": null,
   "metadata": {
    "colab": {
     "base_uri": "https://localhost:8080/"
    },
    "executionInfo": {
     "elapsed": 11767,
     "status": "ok",
     "timestamp": 1732436152521,
     "user": {
      "displayName": "Wanthanee Prachuabsupakij",
      "userId": "13160947104043617262"
     },
     "user_tz": -420
    },
    "id": "QiBdDAPbOjga",
    "outputId": "abc425f3-23b0-4783-c90a-839d4adb8f8e"
   },
   "outputs": [
    {
     "name": "stdout",
     "output_type": "stream",
     "text": [
      "Enter the loan amount: 3000000\n",
      "Enter the annual interest rate (in %): 5.5\n",
      "Enter the number of years to pay off the loan: 15\n",
      "The monthly installment is: 24,512.50\n",
      "The total interest paid over 15 years is: 1,412,250.65\n"
     ]
    }
   ],
   "source": []
  },
  {
   "cell_type": "markdown",
   "metadata": {
    "id": "g1mAwHsVhhH0"
   },
   "source": [
    "หมายเหตุ  จำนวนเงินที่จ่ายตลอด 15 ปี เกิดจาก (ยอดเงินกู้ - ยอดเงินที่ต้องจ่ายต่อเดือนคูณจำนวนเดือนที่จ่ายทั้งหมดตลอดระยะเวลากู้)\n"
   ]
  }
 ],
 "metadata": {
  "colab": {
   "provenance": []
  },
  "kernelspec": {
   "display_name": "Python 3",
   "language": "python",
   "name": "python3"
  },
  "language_info": {
   "codemirror_mode": {
    "name": "ipython",
    "version": 3
   },
   "file_extension": ".py",
   "mimetype": "text/x-python",
   "name": "python",
   "nbconvert_exporter": "python",
   "pygments_lexer": "ipython3",
   "version": "3.8.3"
  }
 },
 "nbformat": 4,
 "nbformat_minor": 0
}
