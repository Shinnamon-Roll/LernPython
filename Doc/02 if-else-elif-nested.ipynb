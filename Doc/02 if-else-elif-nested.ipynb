{
 "cells": [
  {
   "cell_type": "markdown",
   "metadata": {
    "id": "uVQnoxP2pMeF"
   },
   "source": [
    "# **Chapter 2  If-Else**"
   ]
  },
  {
   "cell_type": "markdown",
   "metadata": {
    "id": "fx8hpN7kpJqZ"
   },
   "source": [
    "### Control Flow Statements\n",
    "The flow control statements are divided into three categories\n",
    "\n",
    "1. Conditional statements\n",
    "2. Iterative statements.\n",
    "3. Transfer statements"
   ]
  },
  {
   "cell_type": "markdown",
   "metadata": {
    "id": "6_zURenkpJqc"
   },
   "source": [
    "### Conditional statements\n",
    "In Python, condition statements act depending on whether a given condition is true or false. You can execute different blocks of codes depending on the outcome of a condition. Condition statements always evaluate to either True or False.\n",
    "\n",
    "There are three types of conditional statements.\n",
    "\n",
    "1. if statement\n",
    "2. if-else\n",
    "3. if-elif-else\n",
    "4. nested if-else"
   ]
  },
  {
   "cell_type": "markdown",
   "metadata": {
    "id": "yXPrA37mpJqd"
   },
   "source": [
    "### Iterative statements\n",
    "In Python, iterative statements allow us to execute a block of code repeatedly as long as the condition is True. We also call it a loop statements.\n",
    "\n",
    "Python provides us the following two loop statement to perform some actions repeatedly\n",
    "\n",
    "[1].for loop\n",
    "[2].while loop"
   ]
  },
  {
   "cell_type": "markdown",
   "metadata": {
    "id": "cozMpkCfpJqd"
   },
   "source": [
    "### Transfer statements\n",
    "\n",
    "In Python, transfer statements are used to alter the program’s way of execution in a certain manner. For this purpose, we use three types of transfer statements.\n",
    "\n",
    "1. break statement\n",
    "2. continue statement\n",
    "3. pass statements"
   ]
  },
  {
   "cell_type": "markdown",
   "metadata": {
    "id": "k0zPmXZppJqd"
   },
   "source": [
    "## If statement in Python\n"
   ]
  },
  {
   "cell_type": "markdown",
   "metadata": {
    "id": "t71nJmsMpJqe"
   },
   "source": [
    "In control statements, The if statement is the simplest form. It takes a condition and evaluates to either True or False.\n",
    "\n",
    "If the condition is True, then the True block of code will be executed, and if the condition is False, then the block of code is skipped, and The controller moves to the next line\n",
    "\n",
    "Syntax of the if statement:"
   ]
  },
  {
   "cell_type": "markdown",
   "metadata": {
    "id": "dJqcCrpDpJqe"
   },
   "source": [
    "we will calculate the square of a number if it greater than 5\n",
    "\n"
   ]
  },
  {
   "cell_type": "code",
   "execution_count": null,
   "metadata": {
    "colab": {
     "base_uri": "https://localhost:8080/"
    },
    "executionInfo": {
     "elapsed": 413,
     "status": "ok",
     "timestamp": 1721874435026,
     "user": {
      "displayName": "Wanthanee Prachuabsupakij",
      "userId": "13160947104043617262"
     },
     "user_tz": -420
    },
    "id": "SvbOfw6EpJqf",
    "outputId": "111eb469-ff06-4607-eeb5-4a18e591ae9f"
   },
   "outputs": [
    {
     "name": "stdout",
     "output_type": "stream",
     "text": [
      "36\n",
      "Next lines of code\n"
     ]
    }
   ],
   "source": [
    "# Example :\n",
    "number = 6\n",
    "if number > 5:\n",
    "    # Calculate square\n",
    "    print(number * number)\n",
    "print('Next lines of code')"
   ]
  },
  {
   "cell_type": "code",
   "execution_count": null,
   "metadata": {
    "colab": {
     "base_uri": "https://localhost:8080/"
    },
    "executionInfo": {
     "elapsed": 396,
     "status": "ok",
     "timestamp": 1721874457399,
     "user": {
      "displayName": "Wanthanee Prachuabsupakij",
      "userId": "13160947104043617262"
     },
     "user_tz": -420
    },
    "id": "lPgLKPycpJqg",
    "outputId": "b4f36fa6-950f-44b1-8129-f13d83f72ea6"
   },
   "outputs": [
    {
     "name": "stdout",
     "output_type": "stream",
     "text": [
      "3 is a positive number.\n",
      "This is always printed.\n",
      "This is also always printed.\n"
     ]
    }
   ],
   "source": [
    "# Example :\n",
    "# If the number is positive, we print an appropriate message\n",
    "num = 3\n",
    "if num > 0:\n",
    "    print(num, \"is a positive number.\")\n",
    "print(\"This is always printed.\")\n",
    "\n",
    "num = -1\n",
    "if num > 0:\n",
    "    print(num, \"is a positive number.\")\n",
    "print(\"This is also always printed.\")"
   ]
  },
  {
   "cell_type": "markdown",
   "metadata": {
    "id": "0BAbv7dNpJqg"
   },
   "source": [
    "* In the above example, num > 0 is the test expression.\n",
    "\n",
    "* The body of if is executed only if this evaluates to True.\n",
    "\n",
    "* When the variable num is equal to 3, test expression is true and statements inside the body of if are executed.\n",
    "\n",
    "* If the variable num is equal to -1, test expression is false and statements inside the body of if are skipped.\n",
    "\n",
    "* The print() statement falls outside of the if block (unindented). Hence, it is executed regardless of the test expression.\n",
    "\n"
   ]
  },
  {
   "cell_type": "code",
   "execution_count": null,
   "metadata": {
    "colab": {
     "base_uri": "https://localhost:8080/"
    },
    "executionInfo": {
     "elapsed": 397,
     "status": "ok",
     "timestamp": 1721874471481,
     "user": {
      "displayName": "Wanthanee Prachuabsupakij",
      "userId": "13160947104043617262"
     },
     "user_tz": -420
    },
    "id": "GyjXfqVepJqg",
    "outputId": "08a07b09-350a-4b19-84a7-1cb683339234"
   },
   "outputs": [
    {
     "name": "stdout",
     "output_type": "stream",
     "text": [
      "price is less than 100\n"
     ]
    }
   ],
   "source": [
    "# Example : if condition\n",
    "price = 50\n",
    "if price < 100:\n",
    "    print(\"price is less than 100\")"
   ]
  },
  {
   "cell_type": "markdown",
   "metadata": {
    "id": "oFoGstBbpJqg"
   },
   "source": [
    "In the above example, the expression price < 100 evaluates to True, so it will execute the block. The if block starts from the new line after : and all the statements under the if condition starts with an increased indentation, either space or tab. Above, the if block contains only one statement. The following example has multiple statements in the if condition."
   ]
  },
  {
   "cell_type": "code",
   "execution_count": null,
   "metadata": {
    "colab": {
     "base_uri": "https://localhost:8080/"
    },
    "executionInfo": {
     "elapsed": 395,
     "status": "ok",
     "timestamp": 1721874500644,
     "user": {
      "displayName": "Wanthanee Prachuabsupakij",
      "userId": "13160947104043617262"
     },
     "user_tz": -420
    },
    "id": "oe53e-uvpJqg",
    "outputId": "3525a01b-19fb-4012-97de-a3675ac1a067"
   },
   "outputs": [
    {
     "name": "stdout",
     "output_type": "stream",
     "text": [
      "price * quantity is less than 600\n",
      "price 50\n",
      "quantity 5\n"
     ]
    }
   ],
   "source": [
    "# Example : multiple statments in if block\n",
    "\n",
    "price = 50\n",
    "quantity = 5\n",
    "if price*quantity < 600:\n",
    "    print(\"price * quantity is less than 600\")\n",
    "    print(\"price\", price)\n",
    "    print(\"quantity\",quantity)"
   ]
  },
  {
   "cell_type": "markdown",
   "metadata": {
    "id": "0n_aNzLkpJqh"
   },
   "source": [
    "Above, the if condition contains multiple statements with the same indentation. If all the statements are not in the same indentation, either space or a tab then it will raise an IdentationError."
   ]
  },
  {
   "cell_type": "code",
   "execution_count": null,
   "metadata": {
    "colab": {
     "base_uri": "https://localhost:8080/",
     "height": 109
    },
    "executionInfo": {
     "elapsed": 390,
     "status": "error",
     "timestamp": 1721874532254,
     "user": {
      "displayName": "Wanthanee Prachuabsupakij",
      "userId": "13160947104043617262"
     },
     "user_tz": -420
    },
    "id": "-0SVI1u3pJqh",
    "outputId": "e56a47fa-18a4-4556-ce00-6c11bd0c1f99"
   },
   "outputs": [
    {
     "ename": "IndentationError",
     "evalue": "unexpected indent (<ipython-input-8-d02ec45941eb>, line 7)",
     "output_type": "error",
     "traceback": [
      "\u001b[0;36m  File \u001b[0;32m\"<ipython-input-8-d02ec45941eb>\"\u001b[0;36m, line \u001b[0;32m7\u001b[0m\n\u001b[0;31m    print(\"quantity\",quantity)\u001b[0m\n\u001b[0m    ^\u001b[0m\n\u001b[0;31mIndentationError\u001b[0m\u001b[0;31m:\u001b[0m unexpected indent\n"
     ]
    }
   ],
   "source": [
    "# Example: Invalid Indentation in the Block\n",
    "price = 50\n",
    "quantity = 5\n",
    "if price*quantity < 600:\n",
    "    print(\"price * quantity is less than 600\")\n",
    "    print(\"price\", price)\n",
    "    print(\"quantity\",quantity)"
   ]
  },
  {
   "cell_type": "markdown",
   "metadata": {
    "id": "EhI30-zOpJqh"
   },
   "source": [
    "Note : The statements with the same indentation level as if condition will not consider in the if block. They will consider out of the if condition."
   ]
  },
  {
   "cell_type": "code",
   "execution_count": null,
   "metadata": {
    "colab": {
     "base_uri": "https://localhost:8080/"
    },
    "executionInfo": {
     "elapsed": 387,
     "status": "ok",
     "timestamp": 1721789570972,
     "user": {
      "displayName": "Wanthanee Prachuabsupakij",
      "userId": "13160947104043617262"
     },
     "user_tz": -420
    },
    "id": "seQCBIAKpJqh",
    "outputId": "ab38ebde-949c-418e-a460-9375724e31ff"
   },
   "outputs": [
    {
     "name": "stdout",
     "output_type": "stream",
     "text": [
      "No if block is executed\n"
     ]
    }
   ],
   "source": [
    "# Example: Out of Block Statements\n",
    "price = 50\n",
    "quantity = 5\n",
    "if price*quantity < 100:\n",
    "    print(\"price * quantity is less than 600\")\n",
    "    print(\"price\", price)\n",
    "    print(\"quantity\",quantity)\n",
    "print(\"No if block is executed\")"
   ]
  },
  {
   "cell_type": "markdown",
   "metadata": {
    "id": "5c_nzXpJpJqh"
   },
   "source": [
    "#### The following example demonstrates multiple if conditions.\n",
    "\n"
   ]
  },
  {
   "cell_type": "code",
   "execution_count": null,
   "metadata": {
    "colab": {
     "base_uri": "https://localhost:8080/"
    },
    "executionInfo": {
     "elapsed": 401,
     "status": "ok",
     "timestamp": 1721874601942,
     "user": {
      "displayName": "Wanthanee Prachuabsupakij",
      "userId": "13160947104043617262"
     },
     "user_tz": -420
    },
    "id": "-QoADmAqpJqh",
    "outputId": "a6cbdb98-13dc-4cd1-988c-1f15721a35fd"
   },
   "outputs": [
    {
     "name": "stdout",
     "output_type": "stream",
     "text": [
      "price is 100\n"
     ]
    }
   ],
   "source": [
    "price = 100\n",
    "if price > 100:\n",
    "    print(\"price is greater than 100\")\n",
    "if price ==100:\n",
    "    print(\"price is 100\")\n",
    "if price < 100:\n",
    "    print(\"price is less than 100\")"
   ]
  },
  {
   "cell_type": "markdown",
   "metadata": {
    "id": "gIqJaxI7pJqh"
   },
   "source": [
    "##### Note : Notice that each if block contains a statement in a different indentation, and that's valid because they are different from each other.\n",
    "\n"
   ]
  },
  {
   "cell_type": "markdown",
   "metadata": {
    "id": "aJXuOZoJr6v8"
   },
   "source": [
    "# Example Grade Checking"
   ]
  },
  {
   "cell_type": "code",
   "execution_count": 16,
   "metadata": {
    "colab": {
     "base_uri": "https://localhost:8080/"
    },
    "executionInfo": {
     "elapsed": 6355,
     "status": "ok",
     "timestamp": 1732768763788,
     "user": {
      "displayName": "Wanthanee Prachuabsupakij",
      "userId": "13160947104043617262"
     },
     "user_tz": -420
    },
    "id": "GFKHgcOaqAsM",
    "outputId": "b6454456-ea6d-422d-e07c-215200fac93e"
   },
   "outputs": [
    {
     "name": "stdout",
     "output_type": "stream",
     "text": [
      "Enter the score for test 1: 65\n",
      "Enter the score for test 2: 54\n",
      "Enter the score for test 3: 63\n",
      "The Total Score is 60.67\n"
     ]
    }
   ],
   "source": [
    "score1 = int(input(\"Enter the score for test 1: \"))\n",
    "score2 = int(input(\"Enter the score for test 2: \"))\n",
    "score3 = int(input(\"Enter the score for test 3: \"))\n",
    "avg = (score1+score2+score3)/3\n",
    "print(\"The Total Score is {:,.2f}\".format(avg))\n",
    "if avg >= 85:\n",
    "    print(\"Congratulations!!!\")\n",
    "    print(\"That's Great Average\")\n"
   ]
  },
  {
   "cell_type": "markdown",
   "metadata": {
    "id": "fl1PJqfBr92M"
   },
   "source": [
    "# Exercise\n",
    "\n",
    "จงเขียนโปรแกรมคำนวณค่าไฟของการไฟฟ้านครหลวงประเภทบ้านที่อยู่อาศัย  อัตราปกติปริมาณการใช้พลังงานไฟฟ้าเกินกว่า 150 หน่วยต่อเดือน โดยมีอัตราดังต่อไปนี้\n",
    "\n",
    "          * 150 หน่วย แรก (หน่วยที่ 1 – 150) หน่วยละ 3.2484 บาท\n",
    "          * 250 หน่วยต่อไป (หน่วยที่ 151 – 400) หน่วยละ 4.2218 บาท\n",
    "          * เกินกว่า 400 หน่วย (หน่วยที่ 401 เป็นต้นไป) หน่วยละ 4.4217 บาท\n",
    "\n",
    "ตัวอย่างเช่น เมื่อผู่้ป้อนหน่วยการใช้ไฟฟ้าต่อเดือน  = 428.4 หน่วย  การคำนวณจะแจกแจงดังนี้\n",
    "\n",
    "          * 150 หน่วยแรก (หน่วยที่ 1 - 150) จะได้ 150 x 3.2484 รวมเป็นเงิน 487.26 บาท\n",
    "          * 250 หน่วยต่อไป (หน่วยที่ 151 – 400) จะได้ 250 x 4.2218 รวมเป็นเงิน 1,055.45 บาท\n",
    "          * เกินกว่า 400 หน่วย (หน่วยที่ 401 – 428.4) จะได้ 28.4 x 4.4217 รวมเป็นเงิน 125.57 บาท\n",
    "          * รวมตัวเลขทั้งหมดเข้าด้วยกันก็จะได้เป็นค่าไฟ 487.26 + 1,055.45 + 125.57 = 1,668.29 บาท / เดือน  "
   ]
  },
  {
   "cell_type": "code",
   "execution_count": 18,
   "metadata": {
    "colab": {
     "base_uri": "https://localhost:8080/"
    },
    "executionInfo": {
     "elapsed": 16280,
     "status": "ok",
     "timestamp": 1732769101560,
     "user": {
      "displayName": "Wanthanee Prachuabsupakij",
      "userId": "13160947104043617262"
     },
     "user_tz": -420
    },
    "id": "UvPHpQW_uuqf",
    "outputId": "1ceef8c1-3452-4cb2-b41c-6e3c543915cc"
   },
   "outputs": [
    {
     "name": "stdout",
     "output_type": "stream",
     "text": [
      "Enter the number of electricity units used: 428.4\n",
      "Your electricity bill is: 1,668.29 THB/Month\n"
     ]
    }
   ],
   "source": [
    "#ตัวอย่างผลลัพธ์"
   ]
  },
  {
   "cell_type": "code",
   "execution_count": null,
   "metadata": {
    "id": "iVdZEHtetnjb"
   },
   "outputs": [],
   "source": [
    "#เขียนโปรแกรมตรงนี่้\n",
    "\n"
   ]
  },
  {
   "cell_type": "markdown",
   "metadata": {
    "id": "ReR4kZ9RpJqh"
   },
   "source": [
    "## If – else statement\n"
   ]
  },
  {
   "cell_type": "markdown",
   "metadata": {
    "id": "iSoMgHGqpJqi"
   },
   "source": [
    "The if-else statement checks the condition and executes the ‘if’ block of code when the condition is True, and if the condition is False, it will execute the else block of code.\n",
    "\n"
   ]
  },
  {
   "cell_type": "code",
   "execution_count": null,
   "metadata": {
    "colab": {
     "base_uri": "https://localhost:8080/"
    },
    "executionInfo": {
     "elapsed": 374,
     "status": "ok",
     "timestamp": 1721875940759,
     "user": {
      "displayName": "Wanthanee Prachuabsupakij",
      "userId": "13160947104043617262"
     },
     "user_tz": -420
    },
    "id": "JKO73V-tpJqi",
    "outputId": "26353224-ae87-4915-f6dc-1c823e7afb80"
   },
   "outputs": [
    {
     "name": "stdout",
     "output_type": "stream",
     "text": [
      "i is smaller than 10\n"
     ]
    }
   ],
   "source": [
    "i = 10\n",
    "if (i < 20):\n",
    "    print(\"i is smaller than 10\")\n",
    "else:\n",
    "    print(\" i is greater than 10\")"
   ]
  },
  {
   "cell_type": "code",
   "execution_count": null,
   "metadata": {
    "colab": {
     "base_uri": "https://localhost:8080/"
    },
    "executionInfo": {
     "elapsed": 4524,
     "status": "ok",
     "timestamp": 1721875969693,
     "user": {
      "displayName": "Wanthanee Prachuabsupakij",
      "userId": "13160947104043617262"
     },
     "user_tz": -420
    },
    "id": "67-ArSUyuDgM",
    "outputId": "507ba440-60af-4a43-a3c9-4579f5a2b6c4"
   },
   "outputs": [
    {
     "name": "stdout",
     "output_type": "stream",
     "text": [
      "Enter the temperature (F): 50\n",
      "Nice weather\n"
     ]
    }
   ],
   "source": [
    "temp = int(input(\"Enter the temperature (F): \"))\n",
    "if temp < 40:\n",
    "    print(\"It is a little Cold\")\n",
    "else:\n",
    "    print(\"Nice weather\")"
   ]
  },
  {
   "cell_type": "code",
   "execution_count": null,
   "metadata": {
    "colab": {
     "base_uri": "https://localhost:8080/"
    },
    "executionInfo": {
     "elapsed": 8426,
     "status": "ok",
     "timestamp": 1721876045251,
     "user": {
      "displayName": "Wanthanee Prachuabsupakij",
      "userId": "13160947104043617262"
     },
     "user_tz": -420
    },
    "id": "gYC_5kx-pJqi",
    "outputId": "8ef1a420-2ad7-453b-f1ae-4d9218762b52"
   },
   "outputs": [
    {
     "name": "stdout",
     "output_type": "stream",
     "text": [
      "Enter length\n",
      "50\n",
      "Enter breadth\n",
      "60\n",
      "No, it is only Rectangle\n"
     ]
    }
   ],
   "source": [
    " # Take values of length and breadth of a rectangle from user and check if it is square or not.\n",
    "print (\"Enter length\")\n",
    "length = input()\n",
    "print (\"Enter breadth\")\n",
    "breadth = input()\n",
    "if length == breadth:\n",
    "    print (\"Yes, it is square\")\n",
    "else:\n",
    "    print (\"No, it is only Rectangle\")"
   ]
  },
  {
   "cell_type": "markdown",
   "metadata": {
    "id": "OZlyMYsKvyfj"
   },
   "source": [
    "**Exercise:**\n",
    "\n",
    "A company decided to give bonus of 5% to employee if his/her year of service is more than 5 years.\n",
    "Ask user for their salary and year of service and print the net bonus amount.\n",
    "\n",
    "Enter salary : 50000\n",
    "\n",
    "Enter year of service : 10\n",
    "\n",
    "Bonus is 25,000.00\n",
    "\n",
    "------------\n",
    "Enter salary : 65000\n",
    "\n",
    "Enter year of service : 5\n",
    "\n",
    "No Bonus"
   ]
  },
  {
   "cell_type": "code",
   "execution_count": null,
   "metadata": {
    "id": "4AEVyYL2pJqi"
   },
   "outputs": [],
   "source": [
    "#เขียน code ตรงนี้\n",
    "\n"
   ]
  },
  {
   "cell_type": "markdown",
   "metadata": {
    "id": "R491KFBopJqi"
   },
   "source": [
    "### Chain multiple if statement in Python\n",
    "In Python, the if-elif-else condition statement has an elif keyword used to chain multiple conditions one after another. The if-elif-else is useful when you need to check multiple conditions.\n",
    "\n",
    "With the help of if-elif-else we can make a tricky decision. The elif statement checks multiple conditions one by one and if the condition fulfills, then executes that code.\n",
    "\n",
    "Syntax of the if-elif-else statement:"
   ]
  },
  {
   "cell_type": "raw",
   "metadata": {
    "id": "jxC8PgE7pJqi"
   },
   "source": [
    "if condition1:\n",
    "    statment1\n",
    "elif condition2:\n",
    "    statment2\n",
    "elif condition3:\n",
    "    statment3\n",
    "    ....\n",
    "else:\n",
    "    statment\n"
   ]
  },
  {
   "cell_type": "code",
   "execution_count": null,
   "metadata": {
    "colab": {
     "base_uri": "https://localhost:8080/"
    },
    "executionInfo": {
     "elapsed": 5613,
     "status": "ok",
     "timestamp": 1721877195945,
     "user": {
      "displayName": "Wanthanee Prachuabsupakij",
      "userId": "13160947104043617262"
     },
     "user_tz": -420
    },
    "id": "v8_71H5spJqj",
    "outputId": "40c6588a-49ec-4e13-8e33-b3c74e91d007"
   },
   "outputs": [
    {
     "name": "stdout",
     "output_type": "stream",
     "text": [
      "Enter first number : 65\n",
      "Enter second number :85\n",
      "Greater is  85\n"
     ]
    }
   ],
   "source": [
    "# Take two int values from user and print greatest among them.\n",
    "\n",
    "first = int(input(\"Enter first number : \"))\n",
    "second = int(input(\"Enter second number :\"))\n",
    "\n",
    "if first > second:\n",
    "    print(\"Greater is \", first)\n",
    "elif second > first :\n",
    "    print(\"Greater is \", second)\n",
    "else:\n",
    "    print(\"Both are equal\")"
   ]
  },
  {
   "cell_type": "code",
   "execution_count": null,
   "metadata": {
    "colab": {
     "base_uri": "https://localhost:8080/"
    },
    "executionInfo": {
     "elapsed": 372,
     "status": "ok",
     "timestamp": 1721877223299,
     "user": {
      "displayName": "Wanthanee Prachuabsupakij",
      "userId": "13160947104043617262"
     },
     "user_tz": -420
    },
    "id": "xQS1dvn5pJqj",
    "outputId": "64f1b562-9d01-4201-bdd4-cb6868496f17"
   },
   "outputs": [
    {
     "name": "stdout",
     "output_type": "stream",
     "text": [
      "price is less than 100\n"
     ]
    }
   ],
   "source": [
    "price = 50\n",
    "\n",
    "if price > 100:\n",
    "    print(\"price is greater than 100\")\n",
    "elif price == 100:\n",
    "    print(\"price is 100\")\n",
    "else:\n",
    "    print(\"price is less than 100\")"
   ]
  },
  {
   "cell_type": "code",
   "execution_count": null,
   "metadata": {
    "colab": {
     "base_uri": "https://localhost:8080/"
    },
    "executionInfo": {
     "elapsed": 4782,
     "status": "ok",
     "timestamp": 1721791976725,
     "user": {
      "displayName": "Wanthanee Prachuabsupakij",
      "userId": "13160947104043617262"
     },
     "user_tz": -420
    },
    "id": "H15q-Mc6pJqj",
    "outputId": "140a34b7-a56f-47fb-ec5c-3180fbc9692b"
   },
   "outputs": [
    {
     "name": "stdout",
     "output_type": "stream",
     "text": [
      "Enter first age : 32\n",
      "Enter second age :68\n",
      "Enter third age :2\n",
      "Oldest is  68\n"
     ]
    }
   ],
   "source": [
    "first = int(input(\"Enter first age : \"))\n",
    "second = int(input(\"Enter second age :\"))\n",
    "third = int(input(\"Enter third age :\"))\n",
    "\n",
    "if first>=second and second>=third:\n",
    "    print(\"Oldest is \", first)\n",
    "elif second>=first and second>=third:\n",
    "    print(\"Oldest is \", second)\n",
    "elif third>=second and second >= first:\n",
    "    print(\"Oldest is \", third)\n",
    "else:\n",
    "    print(\"All are equal\")"
   ]
  },
  {
   "cell_type": "markdown",
   "metadata": {
    "id": "NaHthb83pJqn"
   },
   "source": [
    "### Nested if-else statement\n",
    "In Python, Nested-if-else statement is an if statement inside another if-else statement. It is allowed in Python to put any number of if statements in another if statement.\n",
    "\n",
    "Indentation is the only way to differentiate the level of nesting. The nested-if else is useful when we want to make a series of decisions.\n",
    "\n",
    "Syntax of the nested-if-else:"
   ]
  },
  {
   "cell_type": "code",
   "execution_count": null,
   "metadata": {
    "colab": {
     "base_uri": "https://localhost:8080/"
    },
    "executionInfo": {
     "elapsed": 372,
     "status": "ok",
     "timestamp": 1721792626297,
     "user": {
      "displayName": "Wanthanee Prachuabsupakij",
      "userId": "13160947104043617262"
     },
     "user_tz": -420
    },
    "id": "FjSRydQnpJqn",
    "outputId": "252fcbbe-0b2c-464f-d9cc-afe3459f6de0"
   },
   "outputs": [
    {
     "name": "stdout",
     "output_type": "stream",
     "text": [
      "Above ten\n",
      "also above ten\n"
     ]
    }
   ],
   "source": [
    "# example 1\n",
    "\n",
    "x = 41\n",
    "\n",
    "if x > 40 :\n",
    "    print(\"Above forty\")\n",
    "    if x>20:\n",
    "        print(\"also above forty\")\n",
    "    else:\n",
    "        print(\"not above 10\")"
   ]
  },
  {
   "cell_type": "code",
   "execution_count": null,
   "metadata": {
    "colab": {
     "base_uri": "https://localhost:8080/"
    },
    "executionInfo": {
     "elapsed": 394,
     "status": "ok",
     "timestamp": 1721877384531,
     "user": {
      "displayName": "Wanthanee Prachuabsupakij",
      "userId": "13160947104043617262"
     },
     "user_tz": -420
    },
    "id": "SiXggZBUpJqn",
    "outputId": "f9206c9a-af8a-4afb-e6f6-9477c48974c3"
   },
   "outputs": [
    {
     "name": "stdout",
     "output_type": "stream",
     "text": [
      "i is greater than 13  \n"
     ]
    }
   ],
   "source": [
    "i = 15\n",
    "if (i >= 13):\n",
    "    if (i > 13):\n",
    "        print (\"i is greater than 13  \")\n",
    "    else:\n",
    "        print (\"i is equal to 13\")\n",
    "else:\n",
    "    print (\"i is smaller than 13\")"
   ]
  },
  {
   "cell_type": "markdown",
   "metadata": {
    "id": "a8zMwJ1opJqj"
   },
   "source": [
    "# **Exercise: Grade Checking**\n",
    "\n",
    "Write a program that asks the user to input a student's score (0-100). Based on the score, assign a grade using the following criteria:\n",
    "\n",
    "* Score >= 90: Grade A\n",
    "* 80 <= Score < 90: Grade B\n",
    "* 70 <= Score < 80: Grade C\n",
    "* 60 <= Score < 70: Grade D\n",
    "* Score < 60: Grade F\n",
    "* If the input is not in the range 0-100, display an error message (Error: Score must be between 0 and 100)."
   ]
  },
  {
   "cell_type": "code",
   "execution_count": null,
   "metadata": {
    "id": "h7HaLWpm9qNF"
   },
   "outputs": [],
   "source": [
    "#เขียน code ตรงนี้"
   ]
  },
  {
   "cell_type": "code",
   "execution_count": 1,
   "metadata": {
    "colab": {
     "base_uri": "https://localhost:8080/"
    },
    "executionInfo": {
     "elapsed": 23227,
     "status": "ok",
     "timestamp": 1732766941638,
     "user": {
      "displayName": "Wanthanee Prachuabsupakij",
      "userId": "13160947104043617262"
     },
     "user_tz": -420
    },
    "id": "zkepOGZWpJqj",
    "outputId": "9db9afea-1069-4959-d291-aef39ea1c5ac"
   },
   "outputs": [
    {
     "name": "stdout",
     "output_type": "stream",
     "text": [
      "Enter the student's score (0-100): 86\n",
      "The grade is: B\n"
     ]
    }
   ],
   "source": []
  },
  {
   "cell_type": "markdown",
   "metadata": {
    "id": "5tDPnYyK9DTl"
   },
   "source": [
    "# **Exercise : Triangle Type Checker**\n",
    "\n",
    "Write a program that takes three integers as input, representing the lengths of the sides of a triangle. Determine whether the triangle is:\n",
    "\n",
    "* Equilateral (all sides are equal)\n",
    "* Isosceles (two sides are equal)\n",
    "* Scalene (all sides are different)\n",
    "* Invalid (if the sum of any two sides is less than or equal to the third side)."
   ]
  },
  {
   "cell_type": "code",
   "execution_count": null,
   "metadata": {
    "id": "DaaWUksv9zAF"
   },
   "outputs": [],
   "source": [
    "#เขียน code ตรงนี้\n"
   ]
  },
  {
   "cell_type": "code",
   "execution_count": 2,
   "metadata": {
    "colab": {
     "base_uri": "https://localhost:8080/"
    },
    "executionInfo": {
     "elapsed": 7397,
     "status": "ok",
     "timestamp": 1732767166898,
     "user": {
      "displayName": "Wanthanee Prachuabsupakij",
      "userId": "13160947104043617262"
     },
     "user_tz": -420
    },
    "id": "Bv6FNLmg905E",
    "outputId": "9087bcf9-f59a-4e5f-ab6a-6e19b95ca228"
   },
   "outputs": [
    {
     "name": "stdout",
     "output_type": "stream",
     "text": [
      "Enter the first side of the triangle: 6\n",
      "Enter the second side of the triangle: 8\n",
      "Enter the third side of the triangle: 7\n",
      "The triangle is Scalene.\n"
     ]
    }
   ],
   "source": []
  },
  {
   "cell_type": "code",
   "execution_count": 5,
   "metadata": {
    "colab": {
     "base_uri": "https://localhost:8080/"
    },
    "executionInfo": {
     "elapsed": 4250,
     "status": "ok",
     "timestamp": 1732767223555,
     "user": {
      "displayName": "Wanthanee Prachuabsupakij",
      "userId": "13160947104043617262"
     },
     "user_tz": -420
    },
    "id": "R4gH6sAA-Rll",
    "outputId": "aed6967a-66cb-4594-f0ee-8e6610e7dc0c"
   },
   "outputs": [
    {
     "name": "stdout",
     "output_type": "stream",
     "text": [
      "Enter the first side of the triangle: 6\n",
      "Enter the second side of the triangle: 1\n",
      "Enter the third side of the triangle: 2\n",
      "Invalid triangle.\n"
     ]
    }
   ],
   "source": []
  },
  {
   "cell_type": "markdown",
   "metadata": {
    "id": "j7Tij_IE0BWB"
   },
   "source": [
    "#Homework 1:  Smart Parking Fee Calculator\n",
    "A smart parking lot system calculates the parking fee based on the following rules:\n",
    "\n",
    "* If the parking time is ≤ 2 hours, the fee is 0.\n",
    "* If the parking time is 3–10 hours, the fee is calculated as (hours - 2) * 20 Bath.\n",
    "* If the parking time is 11–24 hours, split the fee:\n",
    "   * First, calculate the cost for 8 hours at 30 Bath /hour (8 * 30 = 240).\n",
    "\n",
    "   * Then, calculate the remaining hours at 25 Bath /hour.\n",
    "\n",
    "* If the parking time is > 24 hours, apply the flat rate of 300 Bath.\n",
    "\n",
    "\n",
    "\n"
   ]
  },
  {
   "cell_type": "code",
   "execution_count": null,
   "metadata": {
    "id": "5CGP0wu7_5fN"
   },
   "outputs": [],
   "source": [
    "#เขียนโปรแกรมตรงนี้\n",
    "\n"
   ]
  },
  {
   "cell_type": "code",
   "execution_count": 10,
   "metadata": {
    "colab": {
     "base_uri": "https://localhost:8080/"
    },
    "executionInfo": {
     "elapsed": 2911,
     "status": "ok",
     "timestamp": 1732768369507,
     "user": {
      "displayName": "Wanthanee Prachuabsupakij",
      "userId": "13160947104043617262"
     },
     "user_tz": -420
    },
    "id": "gjj3HlXs0EiD",
    "outputId": "3f0679e6-ee7b-44d6-f021-51f31d0c3b7c"
   },
   "outputs": [
    {
     "name": "stdout",
     "output_type": "stream",
     "text": [
      "Enter the total number of hours parked: 6\n",
      "The total parking fee is: 80.00 Bath\n"
     ]
    }
   ],
   "source": []
  },
  {
   "cell_type": "code",
   "execution_count": 13,
   "metadata": {
    "colab": {
     "base_uri": "https://localhost:8080/"
    },
    "executionInfo": {
     "elapsed": 2233,
     "status": "ok",
     "timestamp": 1732768593067,
     "user": {
      "displayName": "Wanthanee Prachuabsupakij",
      "userId": "13160947104043617262"
     },
     "user_tz": -420
    },
    "id": "PkVV0yrLC13G",
    "outputId": "debccb13-ed71-4951-f7ec-78c5b8c757dd"
   },
   "outputs": [
    {
     "name": "stdout",
     "output_type": "stream",
     "text": [
      "Enter the total number of hours parked: 15\n",
      "The total parking fee is: 365.00 Bath\n"
     ]
    }
   ],
   "source": []
  },
  {
   "cell_type": "code",
   "execution_count": 14,
   "metadata": {
    "colab": {
     "base_uri": "https://localhost:8080/"
    },
    "executionInfo": {
     "elapsed": 7893,
     "status": "ok",
     "timestamp": 1732768641937,
     "user": {
      "displayName": "Wanthanee Prachuabsupakij",
      "userId": "13160947104043617262"
     },
     "user_tz": -420
    },
    "id": "qA84HJv2DwjG",
    "outputId": "0d39ac4e-3cd2-45f2-9895-bd19e381b446"
   },
   "outputs": [
    {
     "name": "stdout",
     "output_type": "stream",
     "text": [
      "Enter the total number of hours parked: 28\n",
      "The total parking fee is: 300.00 Bath\n"
     ]
    }
   ],
   "source": []
  },
  {
   "cell_type": "markdown",
   "metadata": {
    "id": "0rZwT_qJ__Ut"
   },
   "source": [
    "#Homework 2  \n",
    "\n",
    "จงเขียนโปรแกรมเพื่อรับค่าตัวเลข 3 ตัว ทางแป้นพิมพ์ แล้วเรียงค่าตัวเลขทั้ง 3 จากน้อยไปหามาก ดังตัวอย่าง"
   ]
  },
  {
   "cell_type": "code",
   "execution_count": null,
   "metadata": {
    "id": "ebrEp1ya_4DF"
   },
   "outputs": [],
   "source": [
    "#เขียนโปรแกรมตรงนี้\n",
    "\n"
   ]
  },
  {
   "cell_type": "code",
   "execution_count": 7,
   "metadata": {
    "colab": {
     "base_uri": "https://localhost:8080/"
    },
    "executionInfo": {
     "elapsed": 5218,
     "status": "ok",
     "timestamp": 1732767563429,
     "user": {
      "displayName": "Wanthanee Prachuabsupakij",
      "userId": "13160947104043617262"
     },
     "user_tz": -420
    },
    "id": "gUB31Jdk47WJ",
    "outputId": "3a6d5d6f-b0ac-4cc7-f6fd-3b974bed6936"
   },
   "outputs": [
    {
     "name": "stdout",
     "output_type": "stream",
     "text": [
      "Number 1: 65\n",
      "Number 2: 85\n",
      "Number 3: 24\n",
      " Descending Sort order: [85, 65, 24]\n"
     ]
    }
   ],
   "source": [
    "\n"
   ]
  }
 ],
 "metadata": {
  "colab": {
   "provenance": []
  },
  "kernelspec": {
   "display_name": "Python 3",
   "language": "python",
   "name": "python3"
  },
  "language_info": {
   "codemirror_mode": {
    "name": "ipython",
    "version": 3
   },
   "file_extension": ".py",
   "mimetype": "text/x-python",
   "name": "python",
   "nbconvert_exporter": "python",
   "pygments_lexer": "ipython3",
   "version": "3.8.3"
  }
 },
 "nbformat": 4,
 "nbformat_minor": 0
}
