{
 "cells": [
  {
   "cell_type": "markdown",
   "metadata": {
    "id": "oiChKAOwljx2"
   },
   "source": [
    "## <font color = \"red\">Chapter 1 Python Basic </font>"
   ]
  },
  {
   "cell_type": "markdown",
   "metadata": {
    "id": "o3wib-O2ljx5"
   },
   "source": [
    "### <font color = \"green\"> Why we use jupyter notebook??? </font>"
   ]
  },
  {
   "cell_type": "markdown",
   "metadata": {
    "id": "cCxXV6_0ljx6"
   },
   "source": [
    "Jupyter notebook, formerly known as the IPython(Interactive Python) notebook, is a flexible tool that helps you create readable analyses, as you can keep code, images, comments, formulae and plots together"
   ]
  },
  {
   "cell_type": "markdown",
   "metadata": {
    "id": "Bdk35Cpzljx6"
   },
   "source": [
    "The name Jupyter is an indirect acronyum of the three core languages it was designed for: **JU**lia, **PYT**hon, and **R** and is inspired by the planet Jupiter."
   ]
  },
  {
   "cell_type": "markdown",
   "metadata": {
    "id": "Ruygn6aBljx6"
   },
   "source": [
    "## <font color = red> Keyboard shortcuts </font>"
   ]
  },
  {
   "cell_type": "markdown",
   "metadata": {
    "id": "fwWFSfS5ljx7"
   },
   "source": [
    "1. **Command Mode (press Esc to unable)**\n",
    " > `Enter` - enter edit mode <br>\n",
    " > `shift` + `enter` - run cell , select below <br>\n",
    " > `ctrl` + `enter` - run cell <br>\n",
    " > `Alt` + `enter` - run cell, insert below <br>\n",
    " > `Y` - to code<br>\n",
    " > `M` - to markdown<br>\n",
    " > `R` - to raw<br>\n",
    " > `1` - to heading 1 <br>\n",
    " > `23456` - to heading 23456 <br>\n",
    " > `A`/`B` - insert above and below cell <br>\n",
    " > `X` - cut selected cell <br>\n",
    " > `C` - copy selected cell <br>\n",
    " > `shift` + `v` - paste cell above <br>\n",
    " > `v` - paste cell below <br>\n",
    " > `z` - undo last cell deletion <br>\n",
    " > `D` - delet selected cell <br>\n",
    " > `shift`+ `M` - merge cell below <br>\n",
    " > `ctrl` + `S` - save and checkpoint <br>\n",
    " > `L` - toggle line number <br>\n",
    " > `o` - toggle output <br>\n",
    " > `shift`+`o` - toggle output scrolling <br>\n",
    " > `Esc` - close pager <br>\n",
    " > `o` - restart kernel <br>\n",
    " > `space` - scroll down <br>\n",
    " > `shift` + `space` - scroll up <br>\n",
    " > `shift` - ignore <br>"
   ]
  },
  {
   "cell_type": "markdown",
   "metadata": {
    "id": "RfddyKQzljx7"
   },
   "source": [
    "2. **Edit Mode (press Enter to enable)**\n",
    "> `tab` - code completion or indent<br>\n",
    "> `shift`+`tab`- tooltip<br>\n",
    "> `ctrl` + `]` - indent<br>\n",
    "> `ctrl` + `[` - denent<br>\n",
    "> `ctrl` + `A` - select all<br>\n",
    "> `ctrl` + `shift` + `z` - redo<br>\n",
    "> `ctrl` + `y` - redo<br>\n",
    "> `ctrl` + `Home` - go to cell start<br>\n",
    "> `ctrl` + `up` - go to cell start<br>\n",
    "> `ctrl` + `End` - go to cell end<br>\n",
    "> `ctrl` + `Down` - go to cell end<br>\n",
    "> `ctrl` + `left` - go one word left<br>\n",
    "> `ctrl` + `right` - go one word right<br>\n",
    "> `ctrl` + `backspace` - delet word before<br>\n",
    "> `ctrl` + `delet` -  delet word after<br>\n",
    "> `ctrl` + `M` - command mode<br>\n",
    "> `ctrl`+`shift`+`minus` - split cell<br>\n",
    "> `ctrl`+ `/` - toggle comment on current or selected lines <br>\n",
    "\n"
   ]
  },
  {
   "cell_type": "markdown",
   "metadata": {
    "id": "7B04Szr0ljyB"
   },
   "source": [
    "## Print"
   ]
  },
  {
   "cell_type": "code",
   "execution_count": null,
   "metadata": {
    "colab": {
     "base_uri": "https://localhost:8080/"
    },
    "executionInfo": {
     "elapsed": 12,
     "status": "ok",
     "timestamp": 1721356089872,
     "user": {
      "displayName": "Wanthanee Prachuabsupakij",
      "userId": "13160947104043617262"
     },
     "user_tz": -420
    },
    "id": "GNT6kscPljyC",
    "outputId": "ab897db7-af41-43f2-8129-4383ff95b7e0"
   },
   "outputs": [
    {
     "name": "stdout",
     "output_type": "stream",
     "text": [
      "hi    how      are     you\n"
     ]
    }
   ],
   "source": [
    "print(\"hi    how      are     you\")"
   ]
  },
  {
   "cell_type": "code",
   "execution_count": null,
   "metadata": {
    "colab": {
     "base_uri": "https://localhost:8080/"
    },
    "executionInfo": {
     "elapsed": 358,
     "status": "ok",
     "timestamp": 1721356281271,
     "user": {
      "displayName": "Wanthanee Prachuabsupakij",
      "userId": "13160947104043617262"
     },
     "user_tz": -420
    },
    "id": "S0fYGyR1ljyC",
    "outputId": "5156da84-6a06-4123-b638-a6daba487a6d"
   },
   "outputs": [
    {
     "name": "stdout",
     "output_type": "stream",
     "text": [
      "HiHello\n"
     ]
    }
   ],
   "source": [
    "print(\"Hi\" + \"Hello\")"
   ]
  },
  {
   "cell_type": "code",
   "execution_count": null,
   "metadata": {
    "colab": {
     "base_uri": "https://localhost:8080/"
    },
    "executionInfo": {
     "elapsed": 376,
     "status": "ok",
     "timestamp": 1721356284587,
     "user": {
      "displayName": "Wanthanee Prachuabsupakij",
      "userId": "13160947104043617262"
     },
     "user_tz": -420
    },
    "id": "HGAii4tyljyC",
    "outputId": "0e917dfb-079c-4beb-9c65-fd2e39d00d12"
   },
   "outputs": [
    {
     "name": "stdout",
     "output_type": "stream",
     "text": [
      "Hi Hello\n"
     ]
    }
   ],
   "source": [
    "print(\"Hi\"+ \" \"+ \"Hello\")"
   ]
  },
  {
   "cell_type": "code",
   "execution_count": null,
   "metadata": {
    "colab": {
     "base_uri": "https://localhost:8080/"
    },
    "executionInfo": {
     "elapsed": 367,
     "status": "ok",
     "timestamp": 1721356301392,
     "user": {
      "displayName": "Wanthanee Prachuabsupakij",
      "userId": "13160947104043617262"
     },
     "user_tz": -420
    },
    "id": "awj92_C-ljyC",
    "outputId": "9e42026e-d82a-4045-a09a-d498189c210e"
   },
   "outputs": [
    {
     "name": "stdout",
     "output_type": "stream",
     "text": [
      "HyderabadHyderabadHyderabad\n"
     ]
    }
   ],
   "source": [
    "print(\"Hyderabad\" * 3)  # its prints string multiple times"
   ]
  },
  {
   "cell_type": "code",
   "execution_count": null,
   "metadata": {
    "colab": {
     "base_uri": "https://localhost:8080/"
    },
    "executionInfo": {
     "elapsed": 370,
     "status": "ok",
     "timestamp": 1721356333216,
     "user": {
      "displayName": "Wanthanee Prachuabsupakij",
      "userId": "13160947104043617262"
     },
     "user_tz": -420
    },
    "id": "57jLlYulljyD",
    "outputId": "49c2d59e-d43f-43b3-b0e0-8a11a18d64b4"
   },
   "outputs": [
    {
     "name": "stdout",
     "output_type": "stream",
     "text": [
      "I multipy 6 Is the result\n"
     ]
    }
   ],
   "source": [
    "print(\"I multipy\", 2 * 3 , \"Is the result\") # print multiply with  numbers"
   ]
  },
  {
   "cell_type": "code",
   "execution_count": 15,
   "metadata": {
    "colab": {
     "base_uri": "https://localhost:8080/"
    },
    "executionInfo": {
     "elapsed": 337,
     "status": "ok",
     "timestamp": 1732433237940,
     "user": {
      "displayName": "Wanthanee Prachuabsupakij",
      "userId": "13160947104043617262"
     },
     "user_tz": -420
    },
    "id": "VzFNpMGuEA4I",
    "outputId": "a7da3038-848d-48f5-f2b2-166361068ef2"
   },
   "outputs": [
    {
     "data": {
      "text/plain": [
       "35708.25"
      ]
     },
     "execution_count": 15,
     "metadata": {},
     "output_type": "execute_result"
    }
   ],
   "source": [
    "(711.25 - 235.14) * 75"
   ]
  },
  {
   "cell_type": "markdown",
   "metadata": {
    "id": "CH5bkxcFEGZx"
   },
   "source": [
    "Pro-tip: Use the underscore (_) variable to use the result of the last calculation. For example, how much profit does Larry make after his evil broker takes their 20% cut?"
   ]
  },
  {
   "cell_type": "code",
   "execution_count": 16,
   "metadata": {
    "colab": {
     "base_uri": "https://localhost:8080/"
    },
    "executionInfo": {
     "elapsed": 365,
     "status": "ok",
     "timestamp": 1732433242072,
     "user": {
      "displayName": "Wanthanee Prachuabsupakij",
      "userId": "13160947104043617262"
     },
     "user_tz": -420
    },
    "id": "qGoQKqecECxH",
    "outputId": "27d7a00f-5d71-4c35-a447-32c89a6c03fd"
   },
   "outputs": [
    {
     "data": {
      "text/plain": [
       "28566.600000000002"
      ]
     },
     "execution_count": 16,
     "metadata": {},
     "output_type": "execute_result"
    }
   ],
   "source": [
    "_ * 0.80"
   ]
  },
  {
   "cell_type": "markdown",
   "metadata": {
    "id": "zSQbFcBuljyD"
   },
   "source": [
    "#### Multi lines strings"
   ]
  },
  {
   "cell_type": "code",
   "execution_count": null,
   "metadata": {
    "colab": {
     "base_uri": "https://localhost:8080/"
    },
    "executionInfo": {
     "elapsed": 366,
     "status": "ok",
     "timestamp": 1721356353943,
     "user": {
      "displayName": "Wanthanee Prachuabsupakij",
      "userId": "13160947104043617262"
     },
     "user_tz": -420
    },
    "id": "3Y-5MbLWljyD",
    "outputId": "912b72c3-2001-48bf-d3f3-a72c5385c5fa"
   },
   "outputs": [
    {
     "name": "stdout",
     "output_type": "stream",
     "text": [
      "To get the list of all keywords of Python programmatically, you can use kwlist of keyword library.\n",
      "Following is the quick code snippet to get the list of all keywords.\n",
      "kwlist returns sequence containing all the keywords defined for the interpreter.\n"
     ]
    }
   ],
   "source": [
    "print('''To get the list of all keywords of Python programmatically, you can use kwlist of keyword library.\n",
    "Following is the quick code snippet to get the list of all keywords.\n",
    "kwlist returns sequence containing all the keywords defined for the interpreter.''')"
   ]
  },
  {
   "cell_type": "markdown",
   "metadata": {
    "id": "uUXXa970ljyD"
   },
   "source": [
    "### print with space , \\n , \\t"
   ]
  },
  {
   "cell_type": "code",
   "execution_count": null,
   "metadata": {
    "colab": {
     "base_uri": "https://localhost:8080/"
    },
    "executionInfo": {
     "elapsed": 371,
     "status": "ok",
     "timestamp": 1721356371248,
     "user": {
      "displayName": "Wanthanee Prachuabsupakij",
      "userId": "13160947104043617262"
     },
     "user_tz": -420
    },
    "id": "le6aM9VCljyD",
    "outputId": "9677f77d-ccf1-4b9b-f969-4a4bed8386a7"
   },
   "outputs": [
    {
     "name": "stdout",
     "output_type": "stream",
     "text": [
      " Hi How are you?\n"
     ]
    }
   ],
   "source": [
    "print(\" Hi How are you?\")"
   ]
  },
  {
   "cell_type": "code",
   "execution_count": null,
   "metadata": {
    "colab": {
     "base_uri": "https://localhost:8080/"
    },
    "executionInfo": {
     "elapsed": 552,
     "status": "ok",
     "timestamp": 1721356387793,
     "user": {
      "displayName": "Wanthanee Prachuabsupakij",
      "userId": "13160947104043617262"
     },
     "user_tz": -420
    },
    "id": "EBsGHLrWljyE",
    "outputId": "1d409ee2-ca6f-44fd-ae25-01d1dcca849a"
   },
   "outputs": [
    {
     "name": "stdout",
     "output_type": "stream",
     "text": [
      " hi \n",
      "How are you\n"
     ]
    }
   ],
   "source": [
    "print( \" hi \\nHow are you\")"
   ]
  },
  {
   "cell_type": "code",
   "execution_count": null,
   "metadata": {
    "colab": {
     "base_uri": "https://localhost:8080/"
    },
    "executionInfo": {
     "elapsed": 381,
     "status": "ok",
     "timestamp": 1721356403809,
     "user": {
      "displayName": "Wanthanee Prachuabsupakij",
      "userId": "13160947104043617262"
     },
     "user_tz": -420
    },
    "id": "TFg7oVgkljyE",
    "outputId": "5f2cdfaa-8b5d-45b7-f562-471c210d3f0e"
   },
   "outputs": [
    {
     "name": "stdout",
     "output_type": "stream",
     "text": [
      "hi\thiiiiiiiiiii\n"
     ]
    }
   ],
   "source": [
    "print(\"hi\\thiiiiiiiiiii\")"
   ]
  },
  {
   "cell_type": "code",
   "execution_count": null,
   "metadata": {
    "colab": {
     "base_uri": "https://localhost:8080/",
     "height": 109
    },
    "executionInfo": {
     "elapsed": 388,
     "status": "error",
     "timestamp": 1721285450375,
     "user": {
      "displayName": "Wanthanee Prachuabsupakij",
      "userId": "13160947104043617262"
     },
     "user_tz": -420
    },
    "id": "f0FD4wm_ljyE",
    "outputId": "e5133fd7-2400-49b6-d13b-77fc60038a1f"
   },
   "outputs": [
    {
     "ename": "SyntaxError",
     "evalue": "unterminated string literal (detected at line 1) (<ipython-input-14-ffef336255b4>, line 1)",
     "output_type": "error",
     "traceback": [
      "\u001b[0;36m  File \u001b[0;32m\"<ipython-input-14-ffef336255b4>\"\u001b[0;36m, line \u001b[0;32m1\u001b[0m\n\u001b[0;31m    print('I don't know')\u001b[0m\n\u001b[0m                       ^\u001b[0m\n\u001b[0;31mSyntaxError\u001b[0m\u001b[0;31m:\u001b[0m unterminated string literal (detected at line 1)\n"
     ]
    }
   ],
   "source": [
    "print('I don't know')"
   ]
  },
  {
   "cell_type": "code",
   "execution_count": null,
   "metadata": {
    "colab": {
     "base_uri": "https://localhost:8080/"
    },
    "executionInfo": {
     "elapsed": 359,
     "status": "ok",
     "timestamp": 1721356451331,
     "user": {
      "displayName": "Wanthanee Prachuabsupakij",
      "userId": "13160947104043617262"
     },
     "user_tz": -420
    },
    "id": "h2AOH6RMljyE",
    "outputId": "87805528-a2ed-4ae8-c005-9d8b7a63056f"
   },
   "outputs": [
    {
     "name": "stdout",
     "output_type": "stream",
     "text": [
      "I don't know\n"
     ]
    }
   ],
   "source": [
    "print('I don\\'t know')"
   ]
  },
  {
   "cell_type": "code",
   "execution_count": null,
   "metadata": {
    "colab": {
     "base_uri": "https://localhost:8080/"
    },
    "executionInfo": {
     "elapsed": 373,
     "status": "ok",
     "timestamp": 1721356493761,
     "user": {
      "displayName": "Wanthanee Prachuabsupakij",
      "userId": "13160947104043617262"
     },
     "user_tz": -420
    },
    "id": "X7tHchu5ljyF",
    "outputId": "82454d0e-4900-4dad-c4b5-1ea954a1f482"
   },
   "outputs": [
    {
     "name": "stdout",
     "output_type": "stream",
     "text": [
      "\"Hi\", He Said\n"
     ]
    }
   ],
   "source": [
    "print(\"\\\"Hi\\\", He Said\")"
   ]
  },
  {
   "cell_type": "markdown",
   "metadata": {
    "id": "dB5rvsDOATlv"
   },
   "source": [
    "Format codes (after the : inside the {}) are similar to C printf(). Common codes include:\n",
    "\n",
    "* d       Decimal integer\n",
    "* b       Binary integer\n",
    "* s       String\n",
    "* x       Hexadecimal integer\n",
    "* f       Float as [-]m.dddddd\n",
    "* e       Float as [-]m.dddddde+-xx\n",
    "* g       Float, but selective use of E notation s String\n",
    "* c       Character (from integer)"
   ]
  },
  {
   "cell_type": "code",
   "execution_count": null,
   "metadata": {
    "id": "4hYyEq_4ljyF"
   },
   "outputs": [],
   "source": [
    "pi = 3.141592653"
   ]
  },
  {
   "cell_type": "code",
   "execution_count": null,
   "metadata": {
    "colab": {
     "base_uri": "https://localhost:8080/"
    },
    "executionInfo": {
     "elapsed": 8,
     "status": "ok",
     "timestamp": 1721356625573,
     "user": {
      "displayName": "Wanthanee Prachuabsupakij",
      "userId": "13160947104043617262"
     },
     "user_tz": -420
    },
    "id": "ZktVwQmsljyF",
    "outputId": "5a35acbc-cb9f-43a8-df7f-76ac94c81fcf"
   },
   "outputs": [
    {
     "name": "stdout",
     "output_type": "stream",
     "text": [
      "I am pi 3\n"
     ]
    }
   ],
   "source": [
    "print(\"I am pi %d\"%(pi)) # %d is place holder for Integers"
   ]
  },
  {
   "cell_type": "code",
   "execution_count": null,
   "metadata": {
    "colab": {
     "base_uri": "https://localhost:8080/"
    },
    "executionInfo": {
     "elapsed": 6,
     "status": "ok",
     "timestamp": 1721356627053,
     "user": {
      "displayName": "Wanthanee Prachuabsupakij",
      "userId": "13160947104043617262"
     },
     "user_tz": -420
    },
    "id": "eMRL9HchljyF",
    "outputId": "5393aecf-adb1-4455-ee63-b0c83454dc7c"
   },
   "outputs": [
    {
     "name": "stdout",
     "output_type": "stream",
     "text": [
      "I am pi 3.141593\n"
     ]
    }
   ],
   "source": [
    "print(\"I am pi %f\"%(pi)) # %f is place holder for Integers"
   ]
  },
  {
   "cell_type": "code",
   "execution_count": null,
   "metadata": {
    "colab": {
     "base_uri": "https://localhost:8080/"
    },
    "executionInfo": {
     "elapsed": 358,
     "status": "ok",
     "timestamp": 1721356662360,
     "user": {
      "displayName": "Wanthanee Prachuabsupakij",
      "userId": "13160947104043617262"
     },
     "user_tz": -420
    },
    "id": "ZrcQObt5ljyG",
    "outputId": "e3f67127-e9e0-426d-d3f4-c0b18079bb6f"
   },
   "outputs": [
    {
     "name": "stdout",
     "output_type": "stream",
     "text": [
      "I am pi 3.142\n"
     ]
    }
   ],
   "source": [
    "print(\"I am pi %.3f\"%(pi)) # %f is place holder for Integers"
   ]
  },
  {
   "cell_type": "code",
   "execution_count": null,
   "metadata": {
    "id": "rjDyUi3vljyG"
   },
   "outputs": [],
   "source": [
    "x = 25\n",
    "y = 2\n",
    "tempScale = 'Celsius'"
   ]
  },
  {
   "cell_type": "code",
   "execution_count": null,
   "metadata": {
    "colab": {
     "base_uri": "https://localhost:8080/"
    },
    "executionInfo": {
     "elapsed": 343,
     "status": "ok",
     "timestamp": 1721356758607,
     "user": {
      "displayName": "Wanthanee Prachuabsupakij",
      "userId": "13160947104043617262"
     },
     "user_tz": -420
    },
    "id": "e8lWiluBljyG",
    "outputId": "faa92211-fe09-44cb-a07e-f44ac7a2bb45"
   },
   "outputs": [
    {
     "name": "stdout",
     "output_type": "stream",
     "text": [
      "The temperature is 12.50 Celsius\n"
     ]
    }
   ],
   "source": [
    "print(\"The temperature is %.2f %s\"%(x/y, tempScale))"
   ]
  },
  {
   "cell_type": "markdown",
   "metadata": {
    "id": "w6-pgRRp_cTm"
   },
   "source": [
    "# .format()"
   ]
  },
  {
   "cell_type": "code",
   "execution_count": null,
   "metadata": {
    "colab": {
     "base_uri": "https://localhost:8080/"
    },
    "executionInfo": {
     "elapsed": 510,
     "status": "ok",
     "timestamp": 1721356829934,
     "user": {
      "displayName": "Wanthanee Prachuabsupakij",
      "userId": "13160947104043617262"
     },
     "user_tz": -420
    },
    "id": "xFcbKtWlljyG",
    "outputId": "99028ae1-d8ed-4a06-d5a2-f09e7d20a971"
   },
   "outputs": [
    {
     "name": "stdout",
     "output_type": "stream",
     "text": [
      "I am FIVE 5, I am SIX 6\n"
     ]
    }
   ],
   "source": [
    "a = 5\n",
    "b = 6\n",
    "print(\"I am FIVE {}, I am SIX {}\".format(a,b))"
   ]
  },
  {
   "cell_type": "code",
   "execution_count": null,
   "metadata": {
    "colab": {
     "base_uri": "https://localhost:8080/"
    },
    "executionInfo": {
     "elapsed": 350,
     "status": "ok",
     "timestamp": 1721356863052,
     "user": {
      "displayName": "Wanthanee Prachuabsupakij",
      "userId": "13160947104043617262"
     },
     "user_tz": -420
    },
    "id": "AjekHFAJljyG",
    "outputId": "074d8b08-17be-4bc5-c828-c45b105cb333"
   },
   "outputs": [
    {
     "name": "stdout",
     "output_type": "stream",
     "text": [
      "I am pi 3.141592653\n"
     ]
    }
   ],
   "source": [
    "print(\"I am pi {}\".format(pi))\n"
   ]
  },
  {
   "cell_type": "code",
   "execution_count": null,
   "metadata": {
    "colab": {
     "base_uri": "https://localhost:8080/"
    },
    "executionInfo": {
     "elapsed": 356,
     "status": "ok",
     "timestamp": 1721356882837,
     "user": {
      "displayName": "Wanthanee Prachuabsupakij",
      "userId": "13160947104043617262"
     },
     "user_tz": -420
    },
    "id": "ZbIM3vPDljyG",
    "outputId": "2533a666-1e2a-4158-9ab5-88cb82214876"
   },
   "outputs": [
    {
     "name": "stdout",
     "output_type": "stream",
     "text": [
      "I am pi 3.142\n"
     ]
    }
   ],
   "source": [
    "print(\"I am pi {:.3f}\".format(pi))"
   ]
  },
  {
   "cell_type": "code",
   "execution_count": null,
   "metadata": {
    "colab": {
     "base_uri": "https://localhost:8080/"
    },
    "executionInfo": {
     "elapsed": 358,
     "status": "ok",
     "timestamp": 1721357052800,
     "user": {
      "displayName": "Wanthanee Prachuabsupakij",
      "userId": "13160947104043617262"
     },
     "user_tz": -420
    },
    "id": "J8Wky21T3agw",
    "outputId": "a96e30e7-f4c3-4f91-dd53-5e077a3686f7"
   },
   "outputs": [
    {
     "name": "stdout",
     "output_type": "stream",
     "text": [
      "The number is 50,000.00\n"
     ]
    }
   ],
   "source": [
    "num = 50000\n",
    "print(\"The number is {:,.2f}\".format(num))"
   ]
  },
  {
   "cell_type": "code",
   "execution_count": 8,
   "metadata": {
    "colab": {
     "base_uri": "https://localhost:8080/"
    },
    "executionInfo": {
     "elapsed": 360,
     "status": "ok",
     "timestamp": 1732432438356,
     "user": {
      "displayName": "Wanthanee Prachuabsupakij",
      "userId": "13160947104043617262"
     },
     "user_tz": -420
    },
    "id": "gZsw_6tnAzi2",
    "outputId": "4a982727-425f-4573-f641-9c4e63ac4049"
   },
   "outputs": [
    {
     "name": "stdout",
     "output_type": "stream",
     "text": [
      "First               $99.01    Second              $88.09  \n"
     ]
    }
   ],
   "source": [
    "print(\"{:20}{:10}{:20}{:8}\".format('First', '$99.01', 'Second', '$88.09'))"
   ]
  },
  {
   "cell_type": "code",
   "execution_count": 17,
   "metadata": {
    "colab": {
     "base_uri": "https://localhost:8080/"
    },
    "executionInfo": {
     "elapsed": 364,
     "status": "ok",
     "timestamp": 1732433486044,
     "user": {
      "displayName": "Wanthanee Prachuabsupakij",
      "userId": "13160947104043617262"
     },
     "user_tz": -420
    },
    "id": "buLzYtgAFMOf",
    "outputId": "b9c9792e-fc61-4079-ae37-1da91f55ca1b"
   },
   "outputs": [
    {
     "name": "stdout",
     "output_type": "stream",
     "text": [
      "Dear {}, I'd like to take a {} course with Prof. {}.\n",
      "Dear John, I'd like to take a programming course with Prof. Potter.\n",
      "Dear Kishwar, I'd like to take a math course with Prof. Robinson.\n"
     ]
    }
   ],
   "source": [
    "s = \"Dear {}, I'd like to take a {} course with Prof. {}.\"\n",
    "\n",
    "print(s)\n",
    "print(s.format(\"John\", \"programming\", \"Potter\"))\n",
    "print(s.format(\"Kishwar\", \"math\", \"Robinson\"))\n"
   ]
  },
  {
   "cell_type": "markdown",
   "metadata": {
    "id": "Pzl7Vl-__0gW"
   },
   "source": [
    "# One way to format string in Python 3.6+ is with f-strings\n",
    "\n",
    "f-strings are new to Python (version 3.6), but are very powerful and efficient. This means they are worth understanding and using. And this is made easier than it might be because they use the same, familiar formatting language that is conventionally used in Python (in .format()).\n",
    "\n",
    "So in this exercise we are going to specifically use f-strings.\n",
    "\n",
    "Here’s the simplest example, to show how you can use available variables in a f-string:"
   ]
  },
  {
   "cell_type": "code",
   "execution_count": 11,
   "metadata": {
    "colab": {
     "base_uri": "https://localhost:8080/"
    },
    "executionInfo": {
     "elapsed": 562,
     "status": "ok",
     "timestamp": 1732432536909,
     "user": {
      "displayName": "Wanthanee Prachuabsupakij",
      "userId": "13160947104043617262"
     },
     "user_tz": -420
    },
    "id": "S1Ws0ESpAIGH",
    "outputId": "1b98f23d-d4c2-4564-caad-f42979713730"
   },
   "outputs": [
    {
     "name": "stdout",
     "output_type": "stream",
     "text": [
      "Your name is Andy\n"
     ]
    }
   ],
   "source": [
    "name = 'Andy'\n",
    "f'Your name is {name}'\n",
    "print(f'Your name is {name}')"
   ]
  },
  {
   "cell_type": "code",
   "execution_count": 5,
   "metadata": {
    "colab": {
     "base_uri": "https://localhost:8080/",
     "height": 36
    },
    "executionInfo": {
     "elapsed": 362,
     "status": "ok",
     "timestamp": 1732432262396,
     "user": {
      "displayName": "Wanthanee Prachuabsupakij",
      "userId": "13160947104043617262"
     },
     "user_tz": -420
    },
    "id": "h5_Jyy7pAk4n",
    "outputId": "3287ec17-440a-48bd-aa32-c1b8b654dc06"
   },
   "outputs": [
    {
     "data": {
      "application/vnd.google.colaboratory.intrinsic+json": {
       "type": "string"
      },
      "text/plain": [
       "'The sum is: 15'"
      ]
     },
     "execution_count": 5,
     "metadata": {},
     "output_type": "execute_result"
    }
   ],
   "source": [
    "a = 5\n",
    "b = 10\n",
    "f\"The sum is: {a+b}\""
   ]
  },
  {
   "cell_type": "markdown",
   "metadata": {
    "id": "qx3wzW4pByz3"
   },
   "source": [
    "Common modifiers adjust the field width and decimal precision. This is a partial list:\n",
    "\n",
    "* :>10d   Integer right aligned in 10-character field\n",
    "* :<10d   Integer left aligned in 10-character field\n",
    "* :^10d   Integer centered in 10-character field :0.2f Float with 2 digit precision"
   ]
  },
  {
   "cell_type": "code",
   "execution_count": 3,
   "metadata": {
    "colab": {
     "base_uri": "https://localhost:8080/",
     "height": 36
    },
    "executionInfo": {
     "elapsed": 524,
     "status": "ok",
     "timestamp": 1732432047352,
     "user": {
      "displayName": "Wanthanee Prachuabsupakij",
      "userId": "13160947104043617262"
     },
     "user_tz": -420
    },
    "id": "Hy2Af2rP_gM4",
    "outputId": "4e47dcac-7764-4e49-ccd4-bc1bc3d4acf2"
   },
   "outputs": [
    {
     "data": {
      "application/vnd.google.colaboratory.intrinsic+json": {
       "type": "string"
      },
      "text/plain": [
       "'       IBM        100      91.10'"
      ]
     },
     "execution_count": 3,
     "metadata": {},
     "output_type": "execute_result"
    }
   ],
   "source": [
    "name = 'IBM'\n",
    "shares = 100\n",
    "price = 91.1\n",
    "f'{name:>10s} {shares:>10d} {price:>10.2f}'"
   ]
  },
  {
   "cell_type": "markdown",
   "metadata": {
    "id": "fA033jj7puhs"
   },
   "source": [
    "# Exercise"
   ]
  },
  {
   "cell_type": "markdown",
   "metadata": {
    "id": "UzsvNJPSpwJ7"
   },
   "source": [
    "1. ให้พิมพ์ข้อความแสดงตัวอย่างดังภาพ\n",
    "![bb.JPG](data:image/jpeg;base64,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)\n"
   ]
  },
  {
   "cell_type": "code",
   "execution_count": 1,
   "metadata": {
    "id": "Vz3VSM3zqDy6"
   },
   "outputs": [
    {
     "name": "stdout",
     "output_type": "stream",
     "text": [
      "Twinkle, twinkle, little star,\n",
      "\tHow I wonder what you are!\n",
      "\t\tUp above the world so high,\n",
      "\t\tLike a diamod in the sky.\n",
      "Twinkle, twinkle, little star,\n",
      "\tHow I wonder what you are!\n"
     ]
    }
   ],
   "source": [
    "#พิมพ์โค้ดตรงนี้\n",
    "print(f\"Twinkle, twinkle, little star,\\n\\tHow I wonder what you are!\\n\\t\\tUp above the world so high,\\n\\t\\tLike a diamod in the sky.\\nTwinkle, twinkle, little star,\\n\\tHow I wonder what you are!\")\n"
   ]
  },
  {
   "cell_type": "code",
   "execution_count": null,
   "metadata": {
    "colab": {
     "base_uri": "https://localhost:8080/"
    },
    "executionInfo": {
     "elapsed": 409,
     "status": "ok",
     "timestamp": 1721286207207,
     "user": {
      "displayName": "Wanthanee Prachuabsupakij",
      "userId": "13160947104043617262"
     },
     "user_tz": -420
    },
    "id": "Qdz5VIUtljyN",
    "outputId": "1d9adf93-ba85-45ad-c8f9-830b6f8f5b9f"
   },
   "outputs": [
    {
     "name": "stdout",
     "output_type": "stream",
     "text": [
      "Twinkle, twinkle, little star, \n",
      "\tHow I wonder what you are! \n",
      "\t\tUp above the world so high, \n",
      "\t\tLike a diamond in the sky. \n",
      "Twinkle, twinkle, little star, \n",
      "\tHow I wonder what you are!\n"
     ]
    }
   ],
   "source": [
    "#"
   ]
  },
  {
   "cell_type": "markdown",
   "metadata": {
    "id": "F48G62llqHSr"
   },
   "source": [
    "2. ให้นักศึกษาใช้ format ในการกำหนดรูปแบบการแสดงผลโดยให้มีรูปแบบการแสดงผลดังตัวอย่าง\n",
    "ค่าเริ่มต้นของ increase = 12.93720081 และ revenue  =  18.33206078\n",
    "\n",
    "**Output**\n",
    "\n",
    "Sales in our company went up by 12.9372%, and our revenue has grown by 18.332%.\n",
    "\n",
    "\n"
   ]
  },
  {
   "cell_type": "code",
   "execution_count": null,
   "metadata": {
    "colab": {
     "base_uri": "https://localhost:8080/"
    },
    "executionInfo": {
     "elapsed": 406,
     "status": "ok",
     "timestamp": 1721286743586,
     "user": {
      "displayName": "Wanthanee Prachuabsupakij",
      "userId": "13160947104043617262"
     },
     "user_tz": -420
    },
    "id": "S-TWvQUmqGUS",
    "outputId": "895727aa-d269-4fe1-e008-1b73262175fa"
   },
   "outputs": [
    {
     "name": "stdout",
     "output_type": "stream",
     "text": [
      "Sales in our company went up by 12.9372%, and our revenue has grown by 18.332%.\n"
     ]
    }
   ],
   "source": [
    "increase = 12.93720081\n",
    "revenue = 18.33206078\n",
    "\n"
   ]
  },
  {
   "cell_type": "markdown",
   "metadata": {
    "id": "yAhC8qRqDaK2"
   },
   "source": [
    "3. Formatting Challenge  ให้นักศึกษาพิมพ์ผลลัพธ์ให้เหมือนตัวอย่างโดยใช้คำสั่งการจัดรูปแบบที่เรียนมาข้างต้น"
   ]
  },
  {
   "cell_type": "markdown",
   "metadata": {
    "id": "A91INJ6NDYEo"
   },
   "source": [
    "      Name     Shares      Price     Change\n",
    "---------- ---------- ---------- ----------\n",
    "        AA        100      $9.22     -22.98\n",
    "       IBM         50    $106.28      15.18\n",
    "       CAT        150     $35.46     -47.98\n",
    "      MSFT        200     $20.89     -30.34\n",
    "        GE         95     $13.48     -26.89\n",
    "      MSFT         50     $20.89     -44.21\n",
    "       IBM        100    $106.28      35.84\n"
   ]
  },
  {
   "cell_type": "code",
   "execution_count": null,
   "metadata": {
    "id": "ltHh-_XSDkyh"
   },
   "outputs": [],
   "source": [
    "line = \"-\" * 72\n",
    "\n",
    "print(f\"{'Name':>15}{'Shares':>15}{'Price':>15}{'Change':>15}\")\n",
    "print(f\"{line:>15}\")\n",
    "\n",
    "print(f\"{'AA':>15}{100:>15d}{'$':>1}{9.22:>14,.2f}{'-22.98':>15}\")\n",
    "print(f\"{'IBM':>15}{50:>15d}{'$':>1}{106.25:>14,.2f}{'15.18':>15}\")\n",
    "print(f\"{'CAT':>15}{150:>15d}{'$':>1}{35.46:>14,.2f}{'-47.98':>15}\")\n",
    "print(f\"{'MSFT':>15}{200:>15d}{'$':>1}{20.89:>14,.2f}{'-30.34':>15}\")\n",
    "print(f\"{'CAT':>15}{150:>15d}{'$':>1}{35.46:>14,.2f}{'-47.98':>15}\")\n",
    "print(f\"{'GE':>15}{95:>15d}{'$':>1}{13.48:>14,.2f}{'-44.21':>15}\")\n",
    "print(f\"{'MSFT':>15}{50:>15d}{'$':>1}{20.89:>14,.2f}{'-44.21':>15}\")\n",
    "print(f\"{'IBM':>15}{100:>15d}{'$':>1}{106.28:>14,.2f}{'35.84':>15}\")"
   ]
  }
 ],
 "metadata": {
  "colab": {
   "provenance": []
  },
  "kernelspec": {
   "display_name": "Python 3",
   "language": "python",
   "name": "python3"
  },
  "language_info": {
   "codemirror_mode": {
    "name": "ipython",
    "version": 3
   },
   "file_extension": ".py",
   "mimetype": "text/x-python",
   "name": "python",
   "nbconvert_exporter": "python",
   "pygments_lexer": "ipython3",
   "version": "3.13.0"
  }
 },
 "nbformat": 4,
 "nbformat_minor": 0
}
